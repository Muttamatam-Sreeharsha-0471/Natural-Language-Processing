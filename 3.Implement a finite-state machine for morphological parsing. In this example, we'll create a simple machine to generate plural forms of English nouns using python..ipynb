{
  "nbformat": 4,
  "nbformat_minor": 0,
  "metadata": {
    "colab": {
      "provenance": [],
      "authorship_tag": "ABX9TyO95IjrG5hXh9odtv7/6Msv",
      "include_colab_link": true
    },
    "kernelspec": {
      "name": "python3",
      "display_name": "Python 3"
    },
    "language_info": {
      "name": "python"
    }
  },
  "cells": [
    {
      "cell_type": "markdown",
      "metadata": {
        "id": "view-in-github",
        "colab_type": "text"
      },
      "source": [
        "<a href=\"https://colab.research.google.com/github/uday1277/DSA0301-NLP/blob/main/3.Implement%20a%20finite-state%20machine%20for%20morphological%20parsing.%20In%20this%20example%2C%20we'll%20create%20a%20simple%20machine%20to%20generate%20plural%20forms%20of%20English%20nouns%20using%20python..ipynb\" target=\"_parent\"><img src=\"https://colab.research.google.com/assets/colab-badge.svg\" alt=\"Open In Colab\"/></a>"
      ]
    },
    {
      "cell_type": "code",
      "execution_count": 2,
      "metadata": {
        "colab": {
          "base_uri": "https://localhost:8080/"
        },
        "id": "3ljWQ07nQ_FY",
        "outputId": "c20e43a0-ae5d-4205-c05c-24f447b76267"
      },
      "outputs": [
        {
          "output_type": "stream",
          "name": "stdout",
          "text": [
            "cat (singular) -> cats (plural)\n",
            "dog (singular) -> dogs (plural)\n",
            "bus (singular) -> bus (plural)\n",
            "dress (singular) -> dress (plural)\n",
            "class (singular) -> class (plural)\n"
          ]
        }
      ],
      "source": [
        "class PluralizationFSM:\n",
        "    def __init__(self):\n",
        "        self.state = 0  # Initial state\n",
        "\n",
        "    def transition(self, word):\n",
        "        if self.state == 0 and word.endswith('s'):\n",
        "            self.state = 1  # Noun ends with 's', no change\n",
        "        elif self.state == 0 and word.endswith('y'):\n",
        "            self.state = 2  # Noun ends with 'y,' switch to 'ies'\n",
        "        elif self.state == 0:\n",
        "            self.state = 3  # Noun ends with another letter, add 's'\n",
        "\n",
        "    def pluralize(self, word):\n",
        "        self.state = 0  # Reset the state\n",
        "        self.transition(word)  # Transition based on rules\n",
        "        if self.state == 1:\n",
        "            return word  # No change\n",
        "        elif self.state == 2:\n",
        "            return word[:-1] + 'ies'  # Change 'y' to 'ies'\n",
        "        elif self.state == 3:\n",
        "            return word + 's'  # Add 's'\n",
        "\n",
        "# Example usage\n",
        "fsm = PluralizationFSM()\n",
        "nouns = ['cat', 'dog', 'bus', 'dress', 'class']\n",
        "pluralized_nouns = [fsm.pluralize(noun) for noun in nouns]\n",
        "\n",
        "for singular, plural in zip(nouns, pluralized_nouns):\n",
        "    print(f\"{singular} (singular) -> {plural} (plural)\")\n"
      ]
    }
  ]
}