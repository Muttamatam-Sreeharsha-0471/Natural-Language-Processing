{
  "nbformat": 4,
  "nbformat_minor": 0,
  "metadata": {
    "colab": {
      "provenance": [],
      "authorship_tag": "ABX9TyPcOa9SLedEnNtu+WUfmja+",
      "include_colab_link": true
    },
    "kernelspec": {
      "name": "python3",
      "display_name": "Python 3"
    },
    "language_info": {
      "name": "python"
    }
  },
  "cells": [
    {
      "cell_type": "markdown",
      "metadata": {
        "id": "view-in-github",
        "colab_type": "text"
      },
      "source": [
        "<a href=\"https://colab.research.google.com/github/uday1277/DSA0301-NLP/blob/main/1.Write%20program%20demonstrates%20how%20to%20use%20regular%20expressions%20in%20Python%20to%20match%20and%20search%20for%20patterns%20in%20text..ipynb\" target=\"_parent\"><img src=\"https://colab.research.google.com/assets/colab-badge.svg\" alt=\"Open In Colab\"/></a>"
      ]
    },
    {
      "cell_type": "code",
      "execution_count": 1,
      "metadata": {
        "colab": {
          "base_uri": "https://localhost:8080/"
        },
        "id": "XTHMcbq3-qzE",
        "outputId": "7e26f47a-32bb-4a18-ff80-9319b596d761"
      },
      "outputs": [
        {
          "output_type": "stream",
          "name": "stdout",
          "text": [
            "All matches found:\n",
            "s something like \n",
            "\n",
            "First match found:\n",
            "'s something like '\n"
          ]
        }
      ],
      "source": [
        "import re\n",
        "\n",
        "# Sample text\n",
        "text = \"\"\"\n",
        "Alice: I wonder if I can match this pattern.\n",
        "Bob: What pattern are you talking about?\n",
        "Alice: It's something like 'pattern'.\n",
        "\"\"\"\n",
        "\n",
        "# Define the regular expression pattern\n",
        "pattern = r\"'(.*?)'\"\n",
        "\n",
        "# Using re.findall() to find all matches in the text\n",
        "matches = re.findall(pattern, text)\n",
        "\n",
        "# Using re.search() to find the first match in the text\n",
        "first_match = re.search(pattern, text)\n",
        "\n",
        "# Printing the results\n",
        "print(\"All matches found:\")\n",
        "for match in matches:\n",
        "    print(match)\n",
        "\n",
        "if first_match:\n",
        "    print(\"\\nFirst match found:\")\n",
        "    print(first_match.group())\n",
        "else:\n",
        "    print(\"\\nNo first match found.\")\n"
      ]
    }
  ]
}