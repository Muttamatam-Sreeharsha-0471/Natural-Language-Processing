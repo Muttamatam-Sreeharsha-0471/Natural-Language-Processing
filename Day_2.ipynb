{
  "nbformat": 4,
  "nbformat_minor": 0,
  "metadata": {
    "colab": {
      "provenance": []
    },
    "kernelspec": {
      "name": "python3",
      "display_name": "Python 3"
    },
    "language_info": {
      "name": "python"
    }
  },
  "cells": [
    {
      "cell_type": "markdown",
      "source": [
        "#*6.Implement a basic N-gram model for text generation. For example, generate text using a bigram model using python.*#"
      ],
      "metadata": {
        "id": "tHML9HbeCMBr"
      }
    },
    {
      "cell_type": "code",
      "source": [
        "import random\n",
        "\n",
        "def build_bigram_model(corpus):\n",
        "    bigram_model = {}\n",
        "    for i in range(len(corpus) - 1):\n",
        "        current_word = corpus[i]\n",
        "        next_word = corpus[i + 1]\n",
        "        if current_word in bigram_model:\n",
        "            bigram_model[current_word].append(next_word)\n",
        "        else:\n",
        "            bigram_model[current_word] = [next_word]\n",
        "    return bigram_model\n",
        "\n",
        "def generate_text(bigram_model, start_word, length=10):\n",
        "    current_word = start_word\n",
        "    generated_text = [current_word]\n",
        "\n",
        "    for _ in range(length - 1):\n",
        "        if current_word in bigram_model:\n",
        "            next_word = random.choice(bigram_model[current_word])\n",
        "            generated_text.append(next_word)\n",
        "            current_word = next_word\n",
        "        else:\n",
        "            break\n",
        "\n",
        "    return ' '.join(generated_text)\n",
        "\n",
        "# Example usage:\n",
        "corpus = \"This is a simple example for building a bigram model for text generation\".split()\n",
        "bigram_model = build_bigram_model(corpus)\n",
        "\n",
        "start_word = \"This\"\n",
        "generated_text = generate_text(bigram_model, start_word, length=10)\n",
        "print(generated_text)\n"
      ],
      "metadata": {
        "colab": {
          "base_uri": "https://localhost:8080/"
        },
        "id": "GcuvsKzECeLw",
        "outputId": "a06c9143-7d93-4379-cfe4-09b6f23a50ba"
      },
      "execution_count": 8,
      "outputs": [
        {
          "output_type": "stream",
          "name": "stdout",
          "text": [
            "This is a simple example for text generation\n"
          ]
        }
      ]
    },
    {
      "cell_type": "markdown",
      "source": [
        "#*7.Write program using the NLTK library to perform part-of-speech tagging on a text.*#"
      ],
      "metadata": {
        "id": "IQMVRmT-DIOb"
      }
    },
    {
      "cell_type": "code",
      "source": [
        "import nltk\n",
        "from nltk.tokenize import word_tokenize\n",
        "from nltk import pos_tag\n",
        "\n",
        "# Download NLTK data (if not already downloaded)\n",
        "nltk.download('punkt')\n",
        "nltk.download('averaged_perceptron_tagger')\n",
        "\n",
        "def pos_tagging(text):\n",
        "    # Tokenize the text into words\n",
        "    words = word_tokenize(text)\n",
        "\n",
        "    # Perform part-of-speech tagging\n",
        "    pos_tags = pos_tag(words)\n",
        "\n",
        "    return pos_tags\n",
        "\n",
        "# Example usage\n",
        "text = \"NLTK is a powerful library for natural language processing.\"\n",
        "\n",
        "pos_tags = pos_tagging(text)\n",
        "print(\"Part-of-Speech Tags:\")\n",
        "print(pos_tags)"
      ],
      "metadata": {
        "colab": {
          "base_uri": "https://localhost:8080/"
        },
        "id": "3EtObqk7JP2Q",
        "outputId": "ef046df4-b440-433f-9c5c-d22b763f87c2"
      },
      "execution_count": 12,
      "outputs": [
        {
          "output_type": "stream",
          "name": "stderr",
          "text": [
            "[nltk_data] Downloading package punkt to /root/nltk_data...\n",
            "[nltk_data]   Unzipping tokenizers/punkt.zip.\n"
          ]
        },
        {
          "output_type": "stream",
          "name": "stdout",
          "text": [
            "Part-of-Speech Tags:\n",
            "[('NLTK', 'NNP'), ('is', 'VBZ'), ('a', 'DT'), ('powerful', 'JJ'), ('library', 'NN'), ('for', 'IN'), ('natural', 'JJ'), ('language', 'NN'), ('processing', 'NN'), ('.', '.')]\n"
          ]
        },
        {
          "output_type": "stream",
          "name": "stderr",
          "text": [
            "[nltk_data] Downloading package averaged_perceptron_tagger to\n",
            "[nltk_data]     /root/nltk_data...\n",
            "[nltk_data]   Package averaged_perceptron_tagger is already up-to-\n",
            "[nltk_data]       date!\n"
          ]
        }
      ]
    },
    {
      "cell_type": "markdown",
      "source": [
        "#*8 Implement a simple stochastic part-of-speech tagging algorithm using a basic probabilistic model to assign POS tags using python*#"
      ],
      "metadata": {
        "id": "p1en2PiJIqs6"
      }
    },
    {
      "cell_type": "code",
      "source": [
        "import nltk\n",
        "from nltk.tokenize import word_tokenize\n",
        "from nltk.probability import FreqDist\n",
        "from nltk.tag import DefaultTagger, UnigramTagger\n",
        "\n",
        "# Sample training data\n",
        "training_data = [\n",
        "    (\"The cat is on the mat\", [('The', 'DT'), ('cat', 'NN'), ('is', 'VB'), ('on', 'IN'), ('the', 'DT'), ('mat', 'NN')]),\n",
        "    (\"A dog is chasing a ball\", [('A', 'DT'), ('dog', 'NN'), ('is', 'VB'), ('chasing', 'VBG'), ('a', 'DT'), ('ball', 'NN')]),\n",
        "    # Add more training data as needed\n",
        "]\n",
        "\n",
        "# Function to train a stochastic POS tagger\n",
        "def train_pos_tagger(training_data):\n",
        "    # Calculate word frequencies\n",
        "    word_freq = FreqDist(word_tag for sentence in training_data for word_tag in sentence[1])\n",
        "\n",
        "    # Calculate the most likely POS tag for each word\n",
        "    default_tagger = DefaultTagger('NN')  # Default tag is 'NN' (noun)\n",
        "    pos_tagger = UnigramTagger(model=word_freq, backoff=default_tagger)\n",
        "\n",
        "    return pos_tagger\n",
        "\n",
        "# Function to tag a new sentence using the trained tagger\n",
        "def stochastic_pos_tag(sentence, tagger):\n",
        "    words = word_tokenize(sentence)\n",
        "    pos_tags = tagger.tag(words)\n",
        "    return pos_tags\n",
        "\n",
        "# Example usage\n",
        "pos_tagger = train_pos_tagger(training_data)\n",
        "\n",
        "new_sentence = \"The cat is chasing a ball\"\n",
        "tags = stochastic_pos_tag(new_sentence, pos_tagger)\n",
        "\n",
        "print(\"Stochastic Part-of-Speech Tags:\")\n",
        "print(tags)"
      ],
      "metadata": {
        "colab": {
          "base_uri": "https://localhost:8080/"
        },
        "id": "os3n73BRJexT",
        "outputId": "55d68344-0104-4c73-c23f-0b8ffa9f4552"
      },
      "execution_count": 22,
      "outputs": [
        {
          "output_type": "stream",
          "name": "stdout",
          "text": [
            "Stochastic Part-of-Speech Tags:\n",
            "[('The', 'NN'), ('cat', 'NN'), ('is', 'NN'), ('chasing', 'NN'), ('a', 'NN'), ('ball', 'NN')]\n"
          ]
        }
      ]
    },
    {
      "cell_type": "code",
      "source": [],
      "metadata": {
        "id": "zcDy_qWUI1Dh"
      },
      "execution_count": null,
      "outputs": []
    },
    {
      "cell_type": "markdown",
      "source": [
        "#*9.Implement a rule-based part-of-speech tagging system using regular expressions using python*#"
      ],
      "metadata": {
        "id": "evMLu_6RI1lw"
      }
    },
    {
      "cell_type": "code",
      "source": [
        "import nltk\n",
        "\n",
        "# Create a RegexpTagger with rules\n",
        "regexp_tagger = nltk.RegexpTagger([\n",
        "    (r'^-?[0-9]+(.[0-9]+)?$', 'CD'),  # Cardinal numbers\n",
        "    (r'(The|the|A|a|An|an)$', 'AT'),  # Articles\n",
        "    (r'.*ing$', 'VBG'),               # Gerunds\n",
        "    (r'.*ed$', 'VBD'),                # Past tense verbs\n",
        "    (r'.*es$', 'VBZ'),                # 3rd singular present verbs\n",
        "    (r'.*ould$', 'MD'),               # Modal verbs\n",
        "    (r'.*\\'s$', 'NN$'),               # Possessive nouns\n",
        "    (r'.*s$', 'NNS'),                 # Plural nouns\n",
        "    (r'.*', 'NN')                     # Default to nouns\n",
        "])\n",
        "\n",
        "# Example usage\n",
        "text = \"The cat sat on the mat.\"\n",
        "tokens = nltk.word_tokenize(text)\n",
        "tagged_tokens = regexp_tagger.tag(tokens)\n",
        "print(tagged_tokens)\n"
      ],
      "metadata": {
        "colab": {
          "base_uri": "https://localhost:8080/"
        },
        "id": "rOtR652PJBCV",
        "outputId": "475377b3-71c6-4fb5-fe40-801b6aefcd3f"
      },
      "execution_count": 14,
      "outputs": [
        {
          "output_type": "stream",
          "name": "stdout",
          "text": [
            "[('The', 'AT'), ('cat', 'NN'), ('sat', 'NN'), ('on', 'NN'), ('the', 'AT'), ('mat', 'NN'), ('.', 'NN')]\n"
          ]
        }
      ]
    },
    {
      "cell_type": "markdown",
      "source": [
        "#*10  Implement transformation-based tagging using a set of transformation rules, apply a simple rule to tag words using python.*#\n"
      ],
      "metadata": {
        "id": "fSMYDPBVJBti"
      }
    },
    {
      "cell_type": "code",
      "source": [
        "\n",
        "# Define a simple transformation rule\n",
        "def transform_rule(word, tag):\n",
        "    if word.endswith('ed'):\n",
        "        return ('VBD', tag)\n",
        "    else:\n",
        "        return (word, tag)\n",
        "\n",
        "# Apply the transformation rule to a tagged sentence\n",
        "tagged_sentence = [('The', 'DT'), ('cat', 'NN'), ('sat', 'VBD'), ('on', 'IN'), ('the', 'DT'), ('mat', 'NN')]\n",
        "transformed_sentence = [(word, transform_rule(word, tag)[0]) for word, tag in tagged_sentence]\n",
        "\n",
        "# Print the transformed sentence\n",
        "print(transformed_sentence)\n"
      ],
      "metadata": {
        "colab": {
          "base_uri": "https://localhost:8080/"
        },
        "id": "vMQMalLlJMTN",
        "outputId": "cf2ef600-869a-4247-fd53-f490cc92304c"
      },
      "execution_count": 20,
      "outputs": [
        {
          "output_type": "stream",
          "name": "stdout",
          "text": [
            "[('The', 'The'), ('cat', 'cat'), ('sat', 'sat'), ('on', 'on'), ('the', 'the'), ('mat', 'mat')]\n"
          ]
        }
      ]
    }
  ]
}