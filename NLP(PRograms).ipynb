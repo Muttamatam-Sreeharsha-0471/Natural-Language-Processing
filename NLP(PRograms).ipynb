{
  "nbformat": 4,
  "nbformat_minor": 0,
  "metadata": {
    "colab": {
      "provenance": []
    },
    "kernelspec": {
      "name": "python3",
      "display_name": "Python 3"
    },
    "language_info": {
      "name": "python"
    },
    "widgets": {
      "application/vnd.jupyter.widget-state+json": {
        "3b730b57ec2845c88710973d28cdfa11": {
          "model_module": "@jupyter-widgets/controls",
          "model_name": "HBoxModel",
          "model_module_version": "1.5.0",
          "state": {
            "_dom_classes": [],
            "_model_module": "@jupyter-widgets/controls",
            "_model_module_version": "1.5.0",
            "_model_name": "HBoxModel",
            "_view_count": null,
            "_view_module": "@jupyter-widgets/controls",
            "_view_module_version": "1.5.0",
            "_view_name": "HBoxView",
            "box_style": "",
            "children": [
              "IPY_MODEL_4f9c9c73649545f6bbf66fda899eda83",
              "IPY_MODEL_a52fb1e59e3e4562a8e524509af1bf57",
              "IPY_MODEL_6faca02aca734a37b30fa8469bb22d86"
            ],
            "layout": "IPY_MODEL_736f2eb89c3f4f3a9ba74b535f619bc5"
          }
        },
        "4f9c9c73649545f6bbf66fda899eda83": {
          "model_module": "@jupyter-widgets/controls",
          "model_name": "HTMLModel",
          "model_module_version": "1.5.0",
          "state": {
            "_dom_classes": [],
            "_model_module": "@jupyter-widgets/controls",
            "_model_module_version": "1.5.0",
            "_model_name": "HTMLModel",
            "_view_count": null,
            "_view_module": "@jupyter-widgets/controls",
            "_view_module_version": "1.5.0",
            "_view_name": "HTMLView",
            "description": "",
            "description_tooltip": null,
            "layout": "IPY_MODEL_864f7466e47344189930e60ae4ac1fce",
            "placeholder": "​",
            "style": "IPY_MODEL_7a23c7fbedc34392b3fcf3df22a6ce07",
            "value": "config.json: 100%"
          }
        },
        "a52fb1e59e3e4562a8e524509af1bf57": {
          "model_module": "@jupyter-widgets/controls",
          "model_name": "FloatProgressModel",
          "model_module_version": "1.5.0",
          "state": {
            "_dom_classes": [],
            "_model_module": "@jupyter-widgets/controls",
            "_model_module_version": "1.5.0",
            "_model_name": "FloatProgressModel",
            "_view_count": null,
            "_view_module": "@jupyter-widgets/controls",
            "_view_module_version": "1.5.0",
            "_view_name": "ProgressView",
            "bar_style": "success",
            "description": "",
            "description_tooltip": null,
            "layout": "IPY_MODEL_08e50606909c4b868b1eb4b57dce3b5f",
            "max": 1416,
            "min": 0,
            "orientation": "horizontal",
            "style": "IPY_MODEL_3e994e3bec8c44429ed602a8af642dd5",
            "value": 1416
          }
        },
        "6faca02aca734a37b30fa8469bb22d86": {
          "model_module": "@jupyter-widgets/controls",
          "model_name": "HTMLModel",
          "model_module_version": "1.5.0",
          "state": {
            "_dom_classes": [],
            "_model_module": "@jupyter-widgets/controls",
            "_model_module_version": "1.5.0",
            "_model_name": "HTMLModel",
            "_view_count": null,
            "_view_module": "@jupyter-widgets/controls",
            "_view_module_version": "1.5.0",
            "_view_name": "HTMLView",
            "description": "",
            "description_tooltip": null,
            "layout": "IPY_MODEL_251a2b84e9be47928f9a28334781b242",
            "placeholder": "​",
            "style": "IPY_MODEL_a2b2585df25d4817b7200d11a69c7fd7",
            "value": " 1.42k/1.42k [00:00&lt;00:00, 34.2kB/s]"
          }
        },
        "736f2eb89c3f4f3a9ba74b535f619bc5": {
          "model_module": "@jupyter-widgets/base",
          "model_name": "LayoutModel",
          "model_module_version": "1.2.0",
          "state": {
            "_model_module": "@jupyter-widgets/base",
            "_model_module_version": "1.2.0",
            "_model_name": "LayoutModel",
            "_view_count": null,
            "_view_module": "@jupyter-widgets/base",
            "_view_module_version": "1.2.0",
            "_view_name": "LayoutView",
            "align_content": null,
            "align_items": null,
            "align_self": null,
            "border": null,
            "bottom": null,
            "display": null,
            "flex": null,
            "flex_flow": null,
            "grid_area": null,
            "grid_auto_columns": null,
            "grid_auto_flow": null,
            "grid_auto_rows": null,
            "grid_column": null,
            "grid_gap": null,
            "grid_row": null,
            "grid_template_areas": null,
            "grid_template_columns": null,
            "grid_template_rows": null,
            "height": null,
            "justify_content": null,
            "justify_items": null,
            "left": null,
            "margin": null,
            "max_height": null,
            "max_width": null,
            "min_height": null,
            "min_width": null,
            "object_fit": null,
            "object_position": null,
            "order": null,
            "overflow": null,
            "overflow_x": null,
            "overflow_y": null,
            "padding": null,
            "right": null,
            "top": null,
            "visibility": null,
            "width": null
          }
        },
        "864f7466e47344189930e60ae4ac1fce": {
          "model_module": "@jupyter-widgets/base",
          "model_name": "LayoutModel",
          "model_module_version": "1.2.0",
          "state": {
            "_model_module": "@jupyter-widgets/base",
            "_model_module_version": "1.2.0",
            "_model_name": "LayoutModel",
            "_view_count": null,
            "_view_module": "@jupyter-widgets/base",
            "_view_module_version": "1.2.0",
            "_view_name": "LayoutView",
            "align_content": null,
            "align_items": null,
            "align_self": null,
            "border": null,
            "bottom": null,
            "display": null,
            "flex": null,
            "flex_flow": null,
            "grid_area": null,
            "grid_auto_columns": null,
            "grid_auto_flow": null,
            "grid_auto_rows": null,
            "grid_column": null,
            "grid_gap": null,
            "grid_row": null,
            "grid_template_areas": null,
            "grid_template_columns": null,
            "grid_template_rows": null,
            "height": null,
            "justify_content": null,
            "justify_items": null,
            "left": null,
            "margin": null,
            "max_height": null,
            "max_width": null,
            "min_height": null,
            "min_width": null,
            "object_fit": null,
            "object_position": null,
            "order": null,
            "overflow": null,
            "overflow_x": null,
            "overflow_y": null,
            "padding": null,
            "right": null,
            "top": null,
            "visibility": null,
            "width": null
          }
        },
        "7a23c7fbedc34392b3fcf3df22a6ce07": {
          "model_module": "@jupyter-widgets/controls",
          "model_name": "DescriptionStyleModel",
          "model_module_version": "1.5.0",
          "state": {
            "_model_module": "@jupyter-widgets/controls",
            "_model_module_version": "1.5.0",
            "_model_name": "DescriptionStyleModel",
            "_view_count": null,
            "_view_module": "@jupyter-widgets/base",
            "_view_module_version": "1.2.0",
            "_view_name": "StyleView",
            "description_width": ""
          }
        },
        "08e50606909c4b868b1eb4b57dce3b5f": {
          "model_module": "@jupyter-widgets/base",
          "model_name": "LayoutModel",
          "model_module_version": "1.2.0",
          "state": {
            "_model_module": "@jupyter-widgets/base",
            "_model_module_version": "1.2.0",
            "_model_name": "LayoutModel",
            "_view_count": null,
            "_view_module": "@jupyter-widgets/base",
            "_view_module_version": "1.2.0",
            "_view_name": "LayoutView",
            "align_content": null,
            "align_items": null,
            "align_self": null,
            "border": null,
            "bottom": null,
            "display": null,
            "flex": null,
            "flex_flow": null,
            "grid_area": null,
            "grid_auto_columns": null,
            "grid_auto_flow": null,
            "grid_auto_rows": null,
            "grid_column": null,
            "grid_gap": null,
            "grid_row": null,
            "grid_template_areas": null,
            "grid_template_columns": null,
            "grid_template_rows": null,
            "height": null,
            "justify_content": null,
            "justify_items": null,
            "left": null,
            "margin": null,
            "max_height": null,
            "max_width": null,
            "min_height": null,
            "min_width": null,
            "object_fit": null,
            "object_position": null,
            "order": null,
            "overflow": null,
            "overflow_x": null,
            "overflow_y": null,
            "padding": null,
            "right": null,
            "top": null,
            "visibility": null,
            "width": null
          }
        },
        "3e994e3bec8c44429ed602a8af642dd5": {
          "model_module": "@jupyter-widgets/controls",
          "model_name": "ProgressStyleModel",
          "model_module_version": "1.5.0",
          "state": {
            "_model_module": "@jupyter-widgets/controls",
            "_model_module_version": "1.5.0",
            "_model_name": "ProgressStyleModel",
            "_view_count": null,
            "_view_module": "@jupyter-widgets/base",
            "_view_module_version": "1.2.0",
            "_view_name": "StyleView",
            "bar_color": null,
            "description_width": ""
          }
        },
        "251a2b84e9be47928f9a28334781b242": {
          "model_module": "@jupyter-widgets/base",
          "model_name": "LayoutModel",
          "model_module_version": "1.2.0",
          "state": {
            "_model_module": "@jupyter-widgets/base",
            "_model_module_version": "1.2.0",
            "_model_name": "LayoutModel",
            "_view_count": null,
            "_view_module": "@jupyter-widgets/base",
            "_view_module_version": "1.2.0",
            "_view_name": "LayoutView",
            "align_content": null,
            "align_items": null,
            "align_self": null,
            "border": null,
            "bottom": null,
            "display": null,
            "flex": null,
            "flex_flow": null,
            "grid_area": null,
            "grid_auto_columns": null,
            "grid_auto_flow": null,
            "grid_auto_rows": null,
            "grid_column": null,
            "grid_gap": null,
            "grid_row": null,
            "grid_template_areas": null,
            "grid_template_columns": null,
            "grid_template_rows": null,
            "height": null,
            "justify_content": null,
            "justify_items": null,
            "left": null,
            "margin": null,
            "max_height": null,
            "max_width": null,
            "min_height": null,
            "min_width": null,
            "object_fit": null,
            "object_position": null,
            "order": null,
            "overflow": null,
            "overflow_x": null,
            "overflow_y": null,
            "padding": null,
            "right": null,
            "top": null,
            "visibility": null,
            "width": null
          }
        },
        "a2b2585df25d4817b7200d11a69c7fd7": {
          "model_module": "@jupyter-widgets/controls",
          "model_name": "DescriptionStyleModel",
          "model_module_version": "1.5.0",
          "state": {
            "_model_module": "@jupyter-widgets/controls",
            "_model_module_version": "1.5.0",
            "_model_name": "DescriptionStyleModel",
            "_view_count": null,
            "_view_module": "@jupyter-widgets/base",
            "_view_module_version": "1.2.0",
            "_view_name": "StyleView",
            "description_width": ""
          }
        },
        "7c2b52276c904ac181ea30bbe550f486": {
          "model_module": "@jupyter-widgets/controls",
          "model_name": "HBoxModel",
          "model_module_version": "1.5.0",
          "state": {
            "_dom_classes": [],
            "_model_module": "@jupyter-widgets/controls",
            "_model_module_version": "1.5.0",
            "_model_name": "HBoxModel",
            "_view_count": null,
            "_view_module": "@jupyter-widgets/controls",
            "_view_module_version": "1.5.0",
            "_view_name": "HBoxView",
            "box_style": "",
            "children": [
              "IPY_MODEL_7e26499e74234138bc7e676354a32287",
              "IPY_MODEL_ca2c85a666954a78ba3fc9321f48405d",
              "IPY_MODEL_83be7891e00d4a18bf38bebe8836489f"
            ],
            "layout": "IPY_MODEL_ddd39b3c5d804100977cbbf54681c0fe"
          }
        },
        "7e26499e74234138bc7e676354a32287": {
          "model_module": "@jupyter-widgets/controls",
          "model_name": "HTMLModel",
          "model_module_version": "1.5.0",
          "state": {
            "_dom_classes": [],
            "_model_module": "@jupyter-widgets/controls",
            "_model_module_version": "1.5.0",
            "_model_name": "HTMLModel",
            "_view_count": null,
            "_view_module": "@jupyter-widgets/controls",
            "_view_module_version": "1.5.0",
            "_view_name": "HTMLView",
            "description": "",
            "description_tooltip": null,
            "layout": "IPY_MODEL_2fbc57bc00ad4195a926a53177665932",
            "placeholder": "​",
            "style": "IPY_MODEL_bb5df78606c84e19b2958d93a2d1c714",
            "value": "pytorch_model.bin: 100%"
          }
        },
        "ca2c85a666954a78ba3fc9321f48405d": {
          "model_module": "@jupyter-widgets/controls",
          "model_name": "FloatProgressModel",
          "model_module_version": "1.5.0",
          "state": {
            "_dom_classes": [],
            "_model_module": "@jupyter-widgets/controls",
            "_model_module_version": "1.5.0",
            "_model_name": "FloatProgressModel",
            "_view_count": null,
            "_view_module": "@jupyter-widgets/controls",
            "_view_module_version": "1.5.0",
            "_view_name": "ProgressView",
            "bar_style": "success",
            "description": "",
            "description_tooltip": null,
            "layout": "IPY_MODEL_c872d16e0da748c3a9327be3284a8f79",
            "max": 300827685,
            "min": 0,
            "orientation": "horizontal",
            "style": "IPY_MODEL_80507d79acff4ae18bd24fa1727e141b",
            "value": 300827685
          }
        },
        "83be7891e00d4a18bf38bebe8836489f": {
          "model_module": "@jupyter-widgets/controls",
          "model_name": "HTMLModel",
          "model_module_version": "1.5.0",
          "state": {
            "_dom_classes": [],
            "_model_module": "@jupyter-widgets/controls",
            "_model_module_version": "1.5.0",
            "_model_name": "HTMLModel",
            "_view_count": null,
            "_view_module": "@jupyter-widgets/controls",
            "_view_module_version": "1.5.0",
            "_view_name": "HTMLView",
            "description": "",
            "description_tooltip": null,
            "layout": "IPY_MODEL_58335231fbb945b6bb7b423f58b5608b",
            "placeholder": "​",
            "style": "IPY_MODEL_0bf9e489ef364773ad90d1b60d37debd",
            "value": " 301M/301M [00:02&lt;00:00, 93.3MB/s]"
          }
        },
        "ddd39b3c5d804100977cbbf54681c0fe": {
          "model_module": "@jupyter-widgets/base",
          "model_name": "LayoutModel",
          "model_module_version": "1.2.0",
          "state": {
            "_model_module": "@jupyter-widgets/base",
            "_model_module_version": "1.2.0",
            "_model_name": "LayoutModel",
            "_view_count": null,
            "_view_module": "@jupyter-widgets/base",
            "_view_module_version": "1.2.0",
            "_view_name": "LayoutView",
            "align_content": null,
            "align_items": null,
            "align_self": null,
            "border": null,
            "bottom": null,
            "display": null,
            "flex": null,
            "flex_flow": null,
            "grid_area": null,
            "grid_auto_columns": null,
            "grid_auto_flow": null,
            "grid_auto_rows": null,
            "grid_column": null,
            "grid_gap": null,
            "grid_row": null,
            "grid_template_areas": null,
            "grid_template_columns": null,
            "grid_template_rows": null,
            "height": null,
            "justify_content": null,
            "justify_items": null,
            "left": null,
            "margin": null,
            "max_height": null,
            "max_width": null,
            "min_height": null,
            "min_width": null,
            "object_fit": null,
            "object_position": null,
            "order": null,
            "overflow": null,
            "overflow_x": null,
            "overflow_y": null,
            "padding": null,
            "right": null,
            "top": null,
            "visibility": null,
            "width": null
          }
        },
        "2fbc57bc00ad4195a926a53177665932": {
          "model_module": "@jupyter-widgets/base",
          "model_name": "LayoutModel",
          "model_module_version": "1.2.0",
          "state": {
            "_model_module": "@jupyter-widgets/base",
            "_model_module_version": "1.2.0",
            "_model_name": "LayoutModel",
            "_view_count": null,
            "_view_module": "@jupyter-widgets/base",
            "_view_module_version": "1.2.0",
            "_view_name": "LayoutView",
            "align_content": null,
            "align_items": null,
            "align_self": null,
            "border": null,
            "bottom": null,
            "display": null,
            "flex": null,
            "flex_flow": null,
            "grid_area": null,
            "grid_auto_columns": null,
            "grid_auto_flow": null,
            "grid_auto_rows": null,
            "grid_column": null,
            "grid_gap": null,
            "grid_row": null,
            "grid_template_areas": null,
            "grid_template_columns": null,
            "grid_template_rows": null,
            "height": null,
            "justify_content": null,
            "justify_items": null,
            "left": null,
            "margin": null,
            "max_height": null,
            "max_width": null,
            "min_height": null,
            "min_width": null,
            "object_fit": null,
            "object_position": null,
            "order": null,
            "overflow": null,
            "overflow_x": null,
            "overflow_y": null,
            "padding": null,
            "right": null,
            "top": null,
            "visibility": null,
            "width": null
          }
        },
        "bb5df78606c84e19b2958d93a2d1c714": {
          "model_module": "@jupyter-widgets/controls",
          "model_name": "DescriptionStyleModel",
          "model_module_version": "1.5.0",
          "state": {
            "_model_module": "@jupyter-widgets/controls",
            "_model_module_version": "1.5.0",
            "_model_name": "DescriptionStyleModel",
            "_view_count": null,
            "_view_module": "@jupyter-widgets/base",
            "_view_module_version": "1.2.0",
            "_view_name": "StyleView",
            "description_width": ""
          }
        },
        "c872d16e0da748c3a9327be3284a8f79": {
          "model_module": "@jupyter-widgets/base",
          "model_name": "LayoutModel",
          "model_module_version": "1.2.0",
          "state": {
            "_model_module": "@jupyter-widgets/base",
            "_model_module_version": "1.2.0",
            "_model_name": "LayoutModel",
            "_view_count": null,
            "_view_module": "@jupyter-widgets/base",
            "_view_module_version": "1.2.0",
            "_view_name": "LayoutView",
            "align_content": null,
            "align_items": null,
            "align_self": null,
            "border": null,
            "bottom": null,
            "display": null,
            "flex": null,
            "flex_flow": null,
            "grid_area": null,
            "grid_auto_columns": null,
            "grid_auto_flow": null,
            "grid_auto_rows": null,
            "grid_column": null,
            "grid_gap": null,
            "grid_row": null,
            "grid_template_areas": null,
            "grid_template_columns": null,
            "grid_template_rows": null,
            "height": null,
            "justify_content": null,
            "justify_items": null,
            "left": null,
            "margin": null,
            "max_height": null,
            "max_width": null,
            "min_height": null,
            "min_width": null,
            "object_fit": null,
            "object_position": null,
            "order": null,
            "overflow": null,
            "overflow_x": null,
            "overflow_y": null,
            "padding": null,
            "right": null,
            "top": null,
            "visibility": null,
            "width": null
          }
        },
        "80507d79acff4ae18bd24fa1727e141b": {
          "model_module": "@jupyter-widgets/controls",
          "model_name": "ProgressStyleModel",
          "model_module_version": "1.5.0",
          "state": {
            "_model_module": "@jupyter-widgets/controls",
            "_model_module_version": "1.5.0",
            "_model_name": "ProgressStyleModel",
            "_view_count": null,
            "_view_module": "@jupyter-widgets/base",
            "_view_module_version": "1.2.0",
            "_view_name": "StyleView",
            "bar_color": null,
            "description_width": ""
          }
        },
        "58335231fbb945b6bb7b423f58b5608b": {
          "model_module": "@jupyter-widgets/base",
          "model_name": "LayoutModel",
          "model_module_version": "1.2.0",
          "state": {
            "_model_module": "@jupyter-widgets/base",
            "_model_module_version": "1.2.0",
            "_model_name": "LayoutModel",
            "_view_count": null,
            "_view_module": "@jupyter-widgets/base",
            "_view_module_version": "1.2.0",
            "_view_name": "LayoutView",
            "align_content": null,
            "align_items": null,
            "align_self": null,
            "border": null,
            "bottom": null,
            "display": null,
            "flex": null,
            "flex_flow": null,
            "grid_area": null,
            "grid_auto_columns": null,
            "grid_auto_flow": null,
            "grid_auto_rows": null,
            "grid_column": null,
            "grid_gap": null,
            "grid_row": null,
            "grid_template_areas": null,
            "grid_template_columns": null,
            "grid_template_rows": null,
            "height": null,
            "justify_content": null,
            "justify_items": null,
            "left": null,
            "margin": null,
            "max_height": null,
            "max_width": null,
            "min_height": null,
            "min_width": null,
            "object_fit": null,
            "object_position": null,
            "order": null,
            "overflow": null,
            "overflow_x": null,
            "overflow_y": null,
            "padding": null,
            "right": null,
            "top": null,
            "visibility": null,
            "width": null
          }
        },
        "0bf9e489ef364773ad90d1b60d37debd": {
          "model_module": "@jupyter-widgets/controls",
          "model_name": "DescriptionStyleModel",
          "model_module_version": "1.5.0",
          "state": {
            "_model_module": "@jupyter-widgets/controls",
            "_model_module_version": "1.5.0",
            "_model_name": "DescriptionStyleModel",
            "_view_count": null,
            "_view_module": "@jupyter-widgets/base",
            "_view_module_version": "1.2.0",
            "_view_name": "StyleView",
            "description_width": ""
          }
        },
        "f0325337b8044115a0e15dcc31d6b67e": {
          "model_module": "@jupyter-widgets/controls",
          "model_name": "HBoxModel",
          "model_module_version": "1.5.0",
          "state": {
            "_dom_classes": [],
            "_model_module": "@jupyter-widgets/controls",
            "_model_module_version": "1.5.0",
            "_model_name": "HBoxModel",
            "_view_count": null,
            "_view_module": "@jupyter-widgets/controls",
            "_view_module_version": "1.5.0",
            "_view_name": "HBoxView",
            "box_style": "",
            "children": [
              "IPY_MODEL_663196ac8b1746ad8e90caa1f11cd588",
              "IPY_MODEL_5023433d53f3489aa0a3c5310f899d23",
              "IPY_MODEL_eaab889eb64c4c9186a220c63300fe06"
            ],
            "layout": "IPY_MODEL_ea6dd3fc61104ceea64ae1f4d0c44c90"
          }
        },
        "663196ac8b1746ad8e90caa1f11cd588": {
          "model_module": "@jupyter-widgets/controls",
          "model_name": "HTMLModel",
          "model_module_version": "1.5.0",
          "state": {
            "_dom_classes": [],
            "_model_module": "@jupyter-widgets/controls",
            "_model_module_version": "1.5.0",
            "_model_name": "HTMLModel",
            "_view_count": null,
            "_view_module": "@jupyter-widgets/controls",
            "_view_module_version": "1.5.0",
            "_view_name": "HTMLView",
            "description": "",
            "description_tooltip": null,
            "layout": "IPY_MODEL_5eb92748f35c43188dae37bdbb2ef16a",
            "placeholder": "​",
            "style": "IPY_MODEL_8f9a75d9031e43c686872f241d673344",
            "value": "generation_config.json: 100%"
          }
        },
        "5023433d53f3489aa0a3c5310f899d23": {
          "model_module": "@jupyter-widgets/controls",
          "model_name": "FloatProgressModel",
          "model_module_version": "1.5.0",
          "state": {
            "_dom_classes": [],
            "_model_module": "@jupyter-widgets/controls",
            "_model_module_version": "1.5.0",
            "_model_name": "FloatProgressModel",
            "_view_count": null,
            "_view_module": "@jupyter-widgets/controls",
            "_view_module_version": "1.5.0",
            "_view_name": "ProgressView",
            "bar_style": "success",
            "description": "",
            "description_tooltip": null,
            "layout": "IPY_MODEL_3e609753f87d447889d762da3d1a06ff",
            "max": 293,
            "min": 0,
            "orientation": "horizontal",
            "style": "IPY_MODEL_0db36a9fdb40432083ddd148ba648ea2",
            "value": 293
          }
        },
        "eaab889eb64c4c9186a220c63300fe06": {
          "model_module": "@jupyter-widgets/controls",
          "model_name": "HTMLModel",
          "model_module_version": "1.5.0",
          "state": {
            "_dom_classes": [],
            "_model_module": "@jupyter-widgets/controls",
            "_model_module_version": "1.5.0",
            "_model_name": "HTMLModel",
            "_view_count": null,
            "_view_module": "@jupyter-widgets/controls",
            "_view_module_version": "1.5.0",
            "_view_name": "HTMLView",
            "description": "",
            "description_tooltip": null,
            "layout": "IPY_MODEL_623106fb3eec497a8e77d2f34c3f0037",
            "placeholder": "​",
            "style": "IPY_MODEL_478a33912cc448208ed82c09be2edd6a",
            "value": " 293/293 [00:00&lt;00:00, 4.58kB/s]"
          }
        },
        "ea6dd3fc61104ceea64ae1f4d0c44c90": {
          "model_module": "@jupyter-widgets/base",
          "model_name": "LayoutModel",
          "model_module_version": "1.2.0",
          "state": {
            "_model_module": "@jupyter-widgets/base",
            "_model_module_version": "1.2.0",
            "_model_name": "LayoutModel",
            "_view_count": null,
            "_view_module": "@jupyter-widgets/base",
            "_view_module_version": "1.2.0",
            "_view_name": "LayoutView",
            "align_content": null,
            "align_items": null,
            "align_self": null,
            "border": null,
            "bottom": null,
            "display": null,
            "flex": null,
            "flex_flow": null,
            "grid_area": null,
            "grid_auto_columns": null,
            "grid_auto_flow": null,
            "grid_auto_rows": null,
            "grid_column": null,
            "grid_gap": null,
            "grid_row": null,
            "grid_template_areas": null,
            "grid_template_columns": null,
            "grid_template_rows": null,
            "height": null,
            "justify_content": null,
            "justify_items": null,
            "left": null,
            "margin": null,
            "max_height": null,
            "max_width": null,
            "min_height": null,
            "min_width": null,
            "object_fit": null,
            "object_position": null,
            "order": null,
            "overflow": null,
            "overflow_x": null,
            "overflow_y": null,
            "padding": null,
            "right": null,
            "top": null,
            "visibility": null,
            "width": null
          }
        },
        "5eb92748f35c43188dae37bdbb2ef16a": {
          "model_module": "@jupyter-widgets/base",
          "model_name": "LayoutModel",
          "model_module_version": "1.2.0",
          "state": {
            "_model_module": "@jupyter-widgets/base",
            "_model_module_version": "1.2.0",
            "_model_name": "LayoutModel",
            "_view_count": null,
            "_view_module": "@jupyter-widgets/base",
            "_view_module_version": "1.2.0",
            "_view_name": "LayoutView",
            "align_content": null,
            "align_items": null,
            "align_self": null,
            "border": null,
            "bottom": null,
            "display": null,
            "flex": null,
            "flex_flow": null,
            "grid_area": null,
            "grid_auto_columns": null,
            "grid_auto_flow": null,
            "grid_auto_rows": null,
            "grid_column": null,
            "grid_gap": null,
            "grid_row": null,
            "grid_template_areas": null,
            "grid_template_columns": null,
            "grid_template_rows": null,
            "height": null,
            "justify_content": null,
            "justify_items": null,
            "left": null,
            "margin": null,
            "max_height": null,
            "max_width": null,
            "min_height": null,
            "min_width": null,
            "object_fit": null,
            "object_position": null,
            "order": null,
            "overflow": null,
            "overflow_x": null,
            "overflow_y": null,
            "padding": null,
            "right": null,
            "top": null,
            "visibility": null,
            "width": null
          }
        },
        "8f9a75d9031e43c686872f241d673344": {
          "model_module": "@jupyter-widgets/controls",
          "model_name": "DescriptionStyleModel",
          "model_module_version": "1.5.0",
          "state": {
            "_model_module": "@jupyter-widgets/controls",
            "_model_module_version": "1.5.0",
            "_model_name": "DescriptionStyleModel",
            "_view_count": null,
            "_view_module": "@jupyter-widgets/base",
            "_view_module_version": "1.2.0",
            "_view_name": "StyleView",
            "description_width": ""
          }
        },
        "3e609753f87d447889d762da3d1a06ff": {
          "model_module": "@jupyter-widgets/base",
          "model_name": "LayoutModel",
          "model_module_version": "1.2.0",
          "state": {
            "_model_module": "@jupyter-widgets/base",
            "_model_module_version": "1.2.0",
            "_model_name": "LayoutModel",
            "_view_count": null,
            "_view_module": "@jupyter-widgets/base",
            "_view_module_version": "1.2.0",
            "_view_name": "LayoutView",
            "align_content": null,
            "align_items": null,
            "align_self": null,
            "border": null,
            "bottom": null,
            "display": null,
            "flex": null,
            "flex_flow": null,
            "grid_area": null,
            "grid_auto_columns": null,
            "grid_auto_flow": null,
            "grid_auto_rows": null,
            "grid_column": null,
            "grid_gap": null,
            "grid_row": null,
            "grid_template_areas": null,
            "grid_template_columns": null,
            "grid_template_rows": null,
            "height": null,
            "justify_content": null,
            "justify_items": null,
            "left": null,
            "margin": null,
            "max_height": null,
            "max_width": null,
            "min_height": null,
            "min_width": null,
            "object_fit": null,
            "object_position": null,
            "order": null,
            "overflow": null,
            "overflow_x": null,
            "overflow_y": null,
            "padding": null,
            "right": null,
            "top": null,
            "visibility": null,
            "width": null
          }
        },
        "0db36a9fdb40432083ddd148ba648ea2": {
          "model_module": "@jupyter-widgets/controls",
          "model_name": "ProgressStyleModel",
          "model_module_version": "1.5.0",
          "state": {
            "_model_module": "@jupyter-widgets/controls",
            "_model_module_version": "1.5.0",
            "_model_name": "ProgressStyleModel",
            "_view_count": null,
            "_view_module": "@jupyter-widgets/base",
            "_view_module_version": "1.2.0",
            "_view_name": "StyleView",
            "bar_color": null,
            "description_width": ""
          }
        },
        "623106fb3eec497a8e77d2f34c3f0037": {
          "model_module": "@jupyter-widgets/base",
          "model_name": "LayoutModel",
          "model_module_version": "1.2.0",
          "state": {
            "_model_module": "@jupyter-widgets/base",
            "_model_module_version": "1.2.0",
            "_model_name": "LayoutModel",
            "_view_count": null,
            "_view_module": "@jupyter-widgets/base",
            "_view_module_version": "1.2.0",
            "_view_name": "LayoutView",
            "align_content": null,
            "align_items": null,
            "align_self": null,
            "border": null,
            "bottom": null,
            "display": null,
            "flex": null,
            "flex_flow": null,
            "grid_area": null,
            "grid_auto_columns": null,
            "grid_auto_flow": null,
            "grid_auto_rows": null,
            "grid_column": null,
            "grid_gap": null,
            "grid_row": null,
            "grid_template_areas": null,
            "grid_template_columns": null,
            "grid_template_rows": null,
            "height": null,
            "justify_content": null,
            "justify_items": null,
            "left": null,
            "margin": null,
            "max_height": null,
            "max_width": null,
            "min_height": null,
            "min_width": null,
            "object_fit": null,
            "object_position": null,
            "order": null,
            "overflow": null,
            "overflow_x": null,
            "overflow_y": null,
            "padding": null,
            "right": null,
            "top": null,
            "visibility": null,
            "width": null
          }
        },
        "478a33912cc448208ed82c09be2edd6a": {
          "model_module": "@jupyter-widgets/controls",
          "model_name": "DescriptionStyleModel",
          "model_module_version": "1.5.0",
          "state": {
            "_model_module": "@jupyter-widgets/controls",
            "_model_module_version": "1.5.0",
            "_model_name": "DescriptionStyleModel",
            "_view_count": null,
            "_view_module": "@jupyter-widgets/base",
            "_view_module_version": "1.2.0",
            "_view_name": "StyleView",
            "description_width": ""
          }
        },
        "3e97f3078a924f909975cfdecf2157e8": {
          "model_module": "@jupyter-widgets/controls",
          "model_name": "HBoxModel",
          "model_module_version": "1.5.0",
          "state": {
            "_dom_classes": [],
            "_model_module": "@jupyter-widgets/controls",
            "_model_module_version": "1.5.0",
            "_model_name": "HBoxModel",
            "_view_count": null,
            "_view_module": "@jupyter-widgets/controls",
            "_view_module_version": "1.5.0",
            "_view_name": "HBoxView",
            "box_style": "",
            "children": [
              "IPY_MODEL_6280ab74e79b4106b2696d89538f43b3",
              "IPY_MODEL_7b1c537ab5f040aca2246f9ff06040a2",
              "IPY_MODEL_6607e6873da7478b931ce7b1bfccefd1"
            ],
            "layout": "IPY_MODEL_80862e3d18104e938a472c9d5c5a5a15"
          }
        },
        "6280ab74e79b4106b2696d89538f43b3": {
          "model_module": "@jupyter-widgets/controls",
          "model_name": "HTMLModel",
          "model_module_version": "1.5.0",
          "state": {
            "_dom_classes": [],
            "_model_module": "@jupyter-widgets/controls",
            "_model_module_version": "1.5.0",
            "_model_name": "HTMLModel",
            "_view_count": null,
            "_view_module": "@jupyter-widgets/controls",
            "_view_module_version": "1.5.0",
            "_view_name": "HTMLView",
            "description": "",
            "description_tooltip": null,
            "layout": "IPY_MODEL_46b6ed02d1ba48c086091a54445dd48a",
            "placeholder": "​",
            "style": "IPY_MODEL_e2a9b97e5c614f048c94f24c1e8a477f",
            "value": "tokenizer_config.json: 100%"
          }
        },
        "7b1c537ab5f040aca2246f9ff06040a2": {
          "model_module": "@jupyter-widgets/controls",
          "model_name": "FloatProgressModel",
          "model_module_version": "1.5.0",
          "state": {
            "_dom_classes": [],
            "_model_module": "@jupyter-widgets/controls",
            "_model_module_version": "1.5.0",
            "_model_name": "FloatProgressModel",
            "_view_count": null,
            "_view_module": "@jupyter-widgets/controls",
            "_view_module_version": "1.5.0",
            "_view_name": "ProgressView",
            "bar_style": "success",
            "description": "",
            "description_tooltip": null,
            "layout": "IPY_MODEL_9abfd3427bef46e380ab5c9980f715a2",
            "max": 42,
            "min": 0,
            "orientation": "horizontal",
            "style": "IPY_MODEL_906099b25fe14f8e97434b60e2caf979",
            "value": 42
          }
        },
        "6607e6873da7478b931ce7b1bfccefd1": {
          "model_module": "@jupyter-widgets/controls",
          "model_name": "HTMLModel",
          "model_module_version": "1.5.0",
          "state": {
            "_dom_classes": [],
            "_model_module": "@jupyter-widgets/controls",
            "_model_module_version": "1.5.0",
            "_model_name": "HTMLModel",
            "_view_count": null,
            "_view_module": "@jupyter-widgets/controls",
            "_view_module_version": "1.5.0",
            "_view_name": "HTMLView",
            "description": "",
            "description_tooltip": null,
            "layout": "IPY_MODEL_1d42234d415e4d33ac2c3fa1c731e8cf",
            "placeholder": "​",
            "style": "IPY_MODEL_edd9617c78164e98a3b128e13e55c893",
            "value": " 42.0/42.0 [00:00&lt;00:00, 584B/s]"
          }
        },
        "80862e3d18104e938a472c9d5c5a5a15": {
          "model_module": "@jupyter-widgets/base",
          "model_name": "LayoutModel",
          "model_module_version": "1.2.0",
          "state": {
            "_model_module": "@jupyter-widgets/base",
            "_model_module_version": "1.2.0",
            "_model_name": "LayoutModel",
            "_view_count": null,
            "_view_module": "@jupyter-widgets/base",
            "_view_module_version": "1.2.0",
            "_view_name": "LayoutView",
            "align_content": null,
            "align_items": null,
            "align_self": null,
            "border": null,
            "bottom": null,
            "display": null,
            "flex": null,
            "flex_flow": null,
            "grid_area": null,
            "grid_auto_columns": null,
            "grid_auto_flow": null,
            "grid_auto_rows": null,
            "grid_column": null,
            "grid_gap": null,
            "grid_row": null,
            "grid_template_areas": null,
            "grid_template_columns": null,
            "grid_template_rows": null,
            "height": null,
            "justify_content": null,
            "justify_items": null,
            "left": null,
            "margin": null,
            "max_height": null,
            "max_width": null,
            "min_height": null,
            "min_width": null,
            "object_fit": null,
            "object_position": null,
            "order": null,
            "overflow": null,
            "overflow_x": null,
            "overflow_y": null,
            "padding": null,
            "right": null,
            "top": null,
            "visibility": null,
            "width": null
          }
        },
        "46b6ed02d1ba48c086091a54445dd48a": {
          "model_module": "@jupyter-widgets/base",
          "model_name": "LayoutModel",
          "model_module_version": "1.2.0",
          "state": {
            "_model_module": "@jupyter-widgets/base",
            "_model_module_version": "1.2.0",
            "_model_name": "LayoutModel",
            "_view_count": null,
            "_view_module": "@jupyter-widgets/base",
            "_view_module_version": "1.2.0",
            "_view_name": "LayoutView",
            "align_content": null,
            "align_items": null,
            "align_self": null,
            "border": null,
            "bottom": null,
            "display": null,
            "flex": null,
            "flex_flow": null,
            "grid_area": null,
            "grid_auto_columns": null,
            "grid_auto_flow": null,
            "grid_auto_rows": null,
            "grid_column": null,
            "grid_gap": null,
            "grid_row": null,
            "grid_template_areas": null,
            "grid_template_columns": null,
            "grid_template_rows": null,
            "height": null,
            "justify_content": null,
            "justify_items": null,
            "left": null,
            "margin": null,
            "max_height": null,
            "max_width": null,
            "min_height": null,
            "min_width": null,
            "object_fit": null,
            "object_position": null,
            "order": null,
            "overflow": null,
            "overflow_x": null,
            "overflow_y": null,
            "padding": null,
            "right": null,
            "top": null,
            "visibility": null,
            "width": null
          }
        },
        "e2a9b97e5c614f048c94f24c1e8a477f": {
          "model_module": "@jupyter-widgets/controls",
          "model_name": "DescriptionStyleModel",
          "model_module_version": "1.5.0",
          "state": {
            "_model_module": "@jupyter-widgets/controls",
            "_model_module_version": "1.5.0",
            "_model_name": "DescriptionStyleModel",
            "_view_count": null,
            "_view_module": "@jupyter-widgets/base",
            "_view_module_version": "1.2.0",
            "_view_name": "StyleView",
            "description_width": ""
          }
        },
        "9abfd3427bef46e380ab5c9980f715a2": {
          "model_module": "@jupyter-widgets/base",
          "model_name": "LayoutModel",
          "model_module_version": "1.2.0",
          "state": {
            "_model_module": "@jupyter-widgets/base",
            "_model_module_version": "1.2.0",
            "_model_name": "LayoutModel",
            "_view_count": null,
            "_view_module": "@jupyter-widgets/base",
            "_view_module_version": "1.2.0",
            "_view_name": "LayoutView",
            "align_content": null,
            "align_items": null,
            "align_self": null,
            "border": null,
            "bottom": null,
            "display": null,
            "flex": null,
            "flex_flow": null,
            "grid_area": null,
            "grid_auto_columns": null,
            "grid_auto_flow": null,
            "grid_auto_rows": null,
            "grid_column": null,
            "grid_gap": null,
            "grid_row": null,
            "grid_template_areas": null,
            "grid_template_columns": null,
            "grid_template_rows": null,
            "height": null,
            "justify_content": null,
            "justify_items": null,
            "left": null,
            "margin": null,
            "max_height": null,
            "max_width": null,
            "min_height": null,
            "min_width": null,
            "object_fit": null,
            "object_position": null,
            "order": null,
            "overflow": null,
            "overflow_x": null,
            "overflow_y": null,
            "padding": null,
            "right": null,
            "top": null,
            "visibility": null,
            "width": null
          }
        },
        "906099b25fe14f8e97434b60e2caf979": {
          "model_module": "@jupyter-widgets/controls",
          "model_name": "ProgressStyleModel",
          "model_module_version": "1.5.0",
          "state": {
            "_model_module": "@jupyter-widgets/controls",
            "_model_module_version": "1.5.0",
            "_model_name": "ProgressStyleModel",
            "_view_count": null,
            "_view_module": "@jupyter-widgets/base",
            "_view_module_version": "1.2.0",
            "_view_name": "StyleView",
            "bar_color": null,
            "description_width": ""
          }
        },
        "1d42234d415e4d33ac2c3fa1c731e8cf": {
          "model_module": "@jupyter-widgets/base",
          "model_name": "LayoutModel",
          "model_module_version": "1.2.0",
          "state": {
            "_model_module": "@jupyter-widgets/base",
            "_model_module_version": "1.2.0",
            "_model_name": "LayoutModel",
            "_view_count": null,
            "_view_module": "@jupyter-widgets/base",
            "_view_module_version": "1.2.0",
            "_view_name": "LayoutView",
            "align_content": null,
            "align_items": null,
            "align_self": null,
            "border": null,
            "bottom": null,
            "display": null,
            "flex": null,
            "flex_flow": null,
            "grid_area": null,
            "grid_auto_columns": null,
            "grid_auto_flow": null,
            "grid_auto_rows": null,
            "grid_column": null,
            "grid_gap": null,
            "grid_row": null,
            "grid_template_areas": null,
            "grid_template_columns": null,
            "grid_template_rows": null,
            "height": null,
            "justify_content": null,
            "justify_items": null,
            "left": null,
            "margin": null,
            "max_height": null,
            "max_width": null,
            "min_height": null,
            "min_width": null,
            "object_fit": null,
            "object_position": null,
            "order": null,
            "overflow": null,
            "overflow_x": null,
            "overflow_y": null,
            "padding": null,
            "right": null,
            "top": null,
            "visibility": null,
            "width": null
          }
        },
        "edd9617c78164e98a3b128e13e55c893": {
          "model_module": "@jupyter-widgets/controls",
          "model_name": "DescriptionStyleModel",
          "model_module_version": "1.5.0",
          "state": {
            "_model_module": "@jupyter-widgets/controls",
            "_model_module_version": "1.5.0",
            "_model_name": "DescriptionStyleModel",
            "_view_count": null,
            "_view_module": "@jupyter-widgets/base",
            "_view_module_version": "1.2.0",
            "_view_name": "StyleView",
            "description_width": ""
          }
        },
        "cbd3cc22e84f4a76af70f9f04f5a2189": {
          "model_module": "@jupyter-widgets/controls",
          "model_name": "HBoxModel",
          "model_module_version": "1.5.0",
          "state": {
            "_dom_classes": [],
            "_model_module": "@jupyter-widgets/controls",
            "_model_module_version": "1.5.0",
            "_model_name": "HBoxModel",
            "_view_count": null,
            "_view_module": "@jupyter-widgets/controls",
            "_view_module_version": "1.5.0",
            "_view_name": "HBoxView",
            "box_style": "",
            "children": [
              "IPY_MODEL_c5059272cd654df1ae02661afc79726e",
              "IPY_MODEL_cfcd1baa53b448d69a9a0fb168a6b0be",
              "IPY_MODEL_5244c716ac2542faaf94fdc6e0e475b9"
            ],
            "layout": "IPY_MODEL_0243a13a0afe4934b7aa5106c60be718"
          }
        },
        "c5059272cd654df1ae02661afc79726e": {
          "model_module": "@jupyter-widgets/controls",
          "model_name": "HTMLModel",
          "model_module_version": "1.5.0",
          "state": {
            "_dom_classes": [],
            "_model_module": "@jupyter-widgets/controls",
            "_model_module_version": "1.5.0",
            "_model_name": "HTMLModel",
            "_view_count": null,
            "_view_module": "@jupyter-widgets/controls",
            "_view_module_version": "1.5.0",
            "_view_name": "HTMLView",
            "description": "",
            "description_tooltip": null,
            "layout": "IPY_MODEL_a96c7149c26c4ad9873121fbb607bf16",
            "placeholder": "​",
            "style": "IPY_MODEL_10e155a62463401082af2c92e94d7f51",
            "value": "source.spm: 100%"
          }
        },
        "cfcd1baa53b448d69a9a0fb168a6b0be": {
          "model_module": "@jupyter-widgets/controls",
          "model_name": "FloatProgressModel",
          "model_module_version": "1.5.0",
          "state": {
            "_dom_classes": [],
            "_model_module": "@jupyter-widgets/controls",
            "_model_module_version": "1.5.0",
            "_model_name": "FloatProgressModel",
            "_view_count": null,
            "_view_module": "@jupyter-widgets/controls",
            "_view_module_version": "1.5.0",
            "_view_name": "ProgressView",
            "bar_style": "success",
            "description": "",
            "description_tooltip": null,
            "layout": "IPY_MODEL_7adf37e88f0c4d189a044672195b6158",
            "max": 778395,
            "min": 0,
            "orientation": "horizontal",
            "style": "IPY_MODEL_b8ced36690624979ba36f36e0a565153",
            "value": 778395
          }
        },
        "5244c716ac2542faaf94fdc6e0e475b9": {
          "model_module": "@jupyter-widgets/controls",
          "model_name": "HTMLModel",
          "model_module_version": "1.5.0",
          "state": {
            "_dom_classes": [],
            "_model_module": "@jupyter-widgets/controls",
            "_model_module_version": "1.5.0",
            "_model_name": "HTMLModel",
            "_view_count": null,
            "_view_module": "@jupyter-widgets/controls",
            "_view_module_version": "1.5.0",
            "_view_name": "HTMLView",
            "description": "",
            "description_tooltip": null,
            "layout": "IPY_MODEL_d33f4244539f439ea66301346b8cae68",
            "placeholder": "​",
            "style": "IPY_MODEL_1b33ec0af71945cfa94b6649556e00f4",
            "value": " 778k/778k [00:00&lt;00:00, 5.99MB/s]"
          }
        },
        "0243a13a0afe4934b7aa5106c60be718": {
          "model_module": "@jupyter-widgets/base",
          "model_name": "LayoutModel",
          "model_module_version": "1.2.0",
          "state": {
            "_model_module": "@jupyter-widgets/base",
            "_model_module_version": "1.2.0",
            "_model_name": "LayoutModel",
            "_view_count": null,
            "_view_module": "@jupyter-widgets/base",
            "_view_module_version": "1.2.0",
            "_view_name": "LayoutView",
            "align_content": null,
            "align_items": null,
            "align_self": null,
            "border": null,
            "bottom": null,
            "display": null,
            "flex": null,
            "flex_flow": null,
            "grid_area": null,
            "grid_auto_columns": null,
            "grid_auto_flow": null,
            "grid_auto_rows": null,
            "grid_column": null,
            "grid_gap": null,
            "grid_row": null,
            "grid_template_areas": null,
            "grid_template_columns": null,
            "grid_template_rows": null,
            "height": null,
            "justify_content": null,
            "justify_items": null,
            "left": null,
            "margin": null,
            "max_height": null,
            "max_width": null,
            "min_height": null,
            "min_width": null,
            "object_fit": null,
            "object_position": null,
            "order": null,
            "overflow": null,
            "overflow_x": null,
            "overflow_y": null,
            "padding": null,
            "right": null,
            "top": null,
            "visibility": null,
            "width": null
          }
        },
        "a96c7149c26c4ad9873121fbb607bf16": {
          "model_module": "@jupyter-widgets/base",
          "model_name": "LayoutModel",
          "model_module_version": "1.2.0",
          "state": {
            "_model_module": "@jupyter-widgets/base",
            "_model_module_version": "1.2.0",
            "_model_name": "LayoutModel",
            "_view_count": null,
            "_view_module": "@jupyter-widgets/base",
            "_view_module_version": "1.2.0",
            "_view_name": "LayoutView",
            "align_content": null,
            "align_items": null,
            "align_self": null,
            "border": null,
            "bottom": null,
            "display": null,
            "flex": null,
            "flex_flow": null,
            "grid_area": null,
            "grid_auto_columns": null,
            "grid_auto_flow": null,
            "grid_auto_rows": null,
            "grid_column": null,
            "grid_gap": null,
            "grid_row": null,
            "grid_template_areas": null,
            "grid_template_columns": null,
            "grid_template_rows": null,
            "height": null,
            "justify_content": null,
            "justify_items": null,
            "left": null,
            "margin": null,
            "max_height": null,
            "max_width": null,
            "min_height": null,
            "min_width": null,
            "object_fit": null,
            "object_position": null,
            "order": null,
            "overflow": null,
            "overflow_x": null,
            "overflow_y": null,
            "padding": null,
            "right": null,
            "top": null,
            "visibility": null,
            "width": null
          }
        },
        "10e155a62463401082af2c92e94d7f51": {
          "model_module": "@jupyter-widgets/controls",
          "model_name": "DescriptionStyleModel",
          "model_module_version": "1.5.0",
          "state": {
            "_model_module": "@jupyter-widgets/controls",
            "_model_module_version": "1.5.0",
            "_model_name": "DescriptionStyleModel",
            "_view_count": null,
            "_view_module": "@jupyter-widgets/base",
            "_view_module_version": "1.2.0",
            "_view_name": "StyleView",
            "description_width": ""
          }
        },
        "7adf37e88f0c4d189a044672195b6158": {
          "model_module": "@jupyter-widgets/base",
          "model_name": "LayoutModel",
          "model_module_version": "1.2.0",
          "state": {
            "_model_module": "@jupyter-widgets/base",
            "_model_module_version": "1.2.0",
            "_model_name": "LayoutModel",
            "_view_count": null,
            "_view_module": "@jupyter-widgets/base",
            "_view_module_version": "1.2.0",
            "_view_name": "LayoutView",
            "align_content": null,
            "align_items": null,
            "align_self": null,
            "border": null,
            "bottom": null,
            "display": null,
            "flex": null,
            "flex_flow": null,
            "grid_area": null,
            "grid_auto_columns": null,
            "grid_auto_flow": null,
            "grid_auto_rows": null,
            "grid_column": null,
            "grid_gap": null,
            "grid_row": null,
            "grid_template_areas": null,
            "grid_template_columns": null,
            "grid_template_rows": null,
            "height": null,
            "justify_content": null,
            "justify_items": null,
            "left": null,
            "margin": null,
            "max_height": null,
            "max_width": null,
            "min_height": null,
            "min_width": null,
            "object_fit": null,
            "object_position": null,
            "order": null,
            "overflow": null,
            "overflow_x": null,
            "overflow_y": null,
            "padding": null,
            "right": null,
            "top": null,
            "visibility": null,
            "width": null
          }
        },
        "b8ced36690624979ba36f36e0a565153": {
          "model_module": "@jupyter-widgets/controls",
          "model_name": "ProgressStyleModel",
          "model_module_version": "1.5.0",
          "state": {
            "_model_module": "@jupyter-widgets/controls",
            "_model_module_version": "1.5.0",
            "_model_name": "ProgressStyleModel",
            "_view_count": null,
            "_view_module": "@jupyter-widgets/base",
            "_view_module_version": "1.2.0",
            "_view_name": "StyleView",
            "bar_color": null,
            "description_width": ""
          }
        },
        "d33f4244539f439ea66301346b8cae68": {
          "model_module": "@jupyter-widgets/base",
          "model_name": "LayoutModel",
          "model_module_version": "1.2.0",
          "state": {
            "_model_module": "@jupyter-widgets/base",
            "_model_module_version": "1.2.0",
            "_model_name": "LayoutModel",
            "_view_count": null,
            "_view_module": "@jupyter-widgets/base",
            "_view_module_version": "1.2.0",
            "_view_name": "LayoutView",
            "align_content": null,
            "align_items": null,
            "align_self": null,
            "border": null,
            "bottom": null,
            "display": null,
            "flex": null,
            "flex_flow": null,
            "grid_area": null,
            "grid_auto_columns": null,
            "grid_auto_flow": null,
            "grid_auto_rows": null,
            "grid_column": null,
            "grid_gap": null,
            "grid_row": null,
            "grid_template_areas": null,
            "grid_template_columns": null,
            "grid_template_rows": null,
            "height": null,
            "justify_content": null,
            "justify_items": null,
            "left": null,
            "margin": null,
            "max_height": null,
            "max_width": null,
            "min_height": null,
            "min_width": null,
            "object_fit": null,
            "object_position": null,
            "order": null,
            "overflow": null,
            "overflow_x": null,
            "overflow_y": null,
            "padding": null,
            "right": null,
            "top": null,
            "visibility": null,
            "width": null
          }
        },
        "1b33ec0af71945cfa94b6649556e00f4": {
          "model_module": "@jupyter-widgets/controls",
          "model_name": "DescriptionStyleModel",
          "model_module_version": "1.5.0",
          "state": {
            "_model_module": "@jupyter-widgets/controls",
            "_model_module_version": "1.5.0",
            "_model_name": "DescriptionStyleModel",
            "_view_count": null,
            "_view_module": "@jupyter-widgets/base",
            "_view_module_version": "1.2.0",
            "_view_name": "StyleView",
            "description_width": ""
          }
        },
        "95da17c4e9ce405d96be1c094b4c53d2": {
          "model_module": "@jupyter-widgets/controls",
          "model_name": "HBoxModel",
          "model_module_version": "1.5.0",
          "state": {
            "_dom_classes": [],
            "_model_module": "@jupyter-widgets/controls",
            "_model_module_version": "1.5.0",
            "_model_name": "HBoxModel",
            "_view_count": null,
            "_view_module": "@jupyter-widgets/controls",
            "_view_module_version": "1.5.0",
            "_view_name": "HBoxView",
            "box_style": "",
            "children": [
              "IPY_MODEL_6f55ad192893483cb9e09915ad962783",
              "IPY_MODEL_3585987ed17d48408451c12673e21379",
              "IPY_MODEL_ca75d629494a44e6bc765e32fbb6b2e9"
            ],
            "layout": "IPY_MODEL_610b241fa2d34ae0aed29f7dd194f92c"
          }
        },
        "6f55ad192893483cb9e09915ad962783": {
          "model_module": "@jupyter-widgets/controls",
          "model_name": "HTMLModel",
          "model_module_version": "1.5.0",
          "state": {
            "_dom_classes": [],
            "_model_module": "@jupyter-widgets/controls",
            "_model_module_version": "1.5.0",
            "_model_name": "HTMLModel",
            "_view_count": null,
            "_view_module": "@jupyter-widgets/controls",
            "_view_module_version": "1.5.0",
            "_view_name": "HTMLView",
            "description": "",
            "description_tooltip": null,
            "layout": "IPY_MODEL_f3d34ec5548d4803a778303cc3c79b16",
            "placeholder": "​",
            "style": "IPY_MODEL_84d4dd4d15f44595baae537b634b14bd",
            "value": "target.spm: 100%"
          }
        },
        "3585987ed17d48408451c12673e21379": {
          "model_module": "@jupyter-widgets/controls",
          "model_name": "FloatProgressModel",
          "model_module_version": "1.5.0",
          "state": {
            "_dom_classes": [],
            "_model_module": "@jupyter-widgets/controls",
            "_model_module_version": "1.5.0",
            "_model_name": "FloatProgressModel",
            "_view_count": null,
            "_view_module": "@jupyter-widgets/controls",
            "_view_module_version": "1.5.0",
            "_view_name": "ProgressView",
            "bar_style": "success",
            "description": "",
            "description_tooltip": null,
            "layout": "IPY_MODEL_73326197c0d348ce82fa09b6e3317e79",
            "max": 802397,
            "min": 0,
            "orientation": "horizontal",
            "style": "IPY_MODEL_31e3372c35844ece9c93fc98ef89be4a",
            "value": 802397
          }
        },
        "ca75d629494a44e6bc765e32fbb6b2e9": {
          "model_module": "@jupyter-widgets/controls",
          "model_name": "HTMLModel",
          "model_module_version": "1.5.0",
          "state": {
            "_dom_classes": [],
            "_model_module": "@jupyter-widgets/controls",
            "_model_module_version": "1.5.0",
            "_model_name": "HTMLModel",
            "_view_count": null,
            "_view_module": "@jupyter-widgets/controls",
            "_view_module_version": "1.5.0",
            "_view_name": "HTMLView",
            "description": "",
            "description_tooltip": null,
            "layout": "IPY_MODEL_34be488bf45943b7bb3bee0239011464",
            "placeholder": "​",
            "style": "IPY_MODEL_f423f435a4824e07a16e45652a324395",
            "value": " 802k/802k [00:00&lt;00:00, 8.62MB/s]"
          }
        },
        "610b241fa2d34ae0aed29f7dd194f92c": {
          "model_module": "@jupyter-widgets/base",
          "model_name": "LayoutModel",
          "model_module_version": "1.2.0",
          "state": {
            "_model_module": "@jupyter-widgets/base",
            "_model_module_version": "1.2.0",
            "_model_name": "LayoutModel",
            "_view_count": null,
            "_view_module": "@jupyter-widgets/base",
            "_view_module_version": "1.2.0",
            "_view_name": "LayoutView",
            "align_content": null,
            "align_items": null,
            "align_self": null,
            "border": null,
            "bottom": null,
            "display": null,
            "flex": null,
            "flex_flow": null,
            "grid_area": null,
            "grid_auto_columns": null,
            "grid_auto_flow": null,
            "grid_auto_rows": null,
            "grid_column": null,
            "grid_gap": null,
            "grid_row": null,
            "grid_template_areas": null,
            "grid_template_columns": null,
            "grid_template_rows": null,
            "height": null,
            "justify_content": null,
            "justify_items": null,
            "left": null,
            "margin": null,
            "max_height": null,
            "max_width": null,
            "min_height": null,
            "min_width": null,
            "object_fit": null,
            "object_position": null,
            "order": null,
            "overflow": null,
            "overflow_x": null,
            "overflow_y": null,
            "padding": null,
            "right": null,
            "top": null,
            "visibility": null,
            "width": null
          }
        },
        "f3d34ec5548d4803a778303cc3c79b16": {
          "model_module": "@jupyter-widgets/base",
          "model_name": "LayoutModel",
          "model_module_version": "1.2.0",
          "state": {
            "_model_module": "@jupyter-widgets/base",
            "_model_module_version": "1.2.0",
            "_model_name": "LayoutModel",
            "_view_count": null,
            "_view_module": "@jupyter-widgets/base",
            "_view_module_version": "1.2.0",
            "_view_name": "LayoutView",
            "align_content": null,
            "align_items": null,
            "align_self": null,
            "border": null,
            "bottom": null,
            "display": null,
            "flex": null,
            "flex_flow": null,
            "grid_area": null,
            "grid_auto_columns": null,
            "grid_auto_flow": null,
            "grid_auto_rows": null,
            "grid_column": null,
            "grid_gap": null,
            "grid_row": null,
            "grid_template_areas": null,
            "grid_template_columns": null,
            "grid_template_rows": null,
            "height": null,
            "justify_content": null,
            "justify_items": null,
            "left": null,
            "margin": null,
            "max_height": null,
            "max_width": null,
            "min_height": null,
            "min_width": null,
            "object_fit": null,
            "object_position": null,
            "order": null,
            "overflow": null,
            "overflow_x": null,
            "overflow_y": null,
            "padding": null,
            "right": null,
            "top": null,
            "visibility": null,
            "width": null
          }
        },
        "84d4dd4d15f44595baae537b634b14bd": {
          "model_module": "@jupyter-widgets/controls",
          "model_name": "DescriptionStyleModel",
          "model_module_version": "1.5.0",
          "state": {
            "_model_module": "@jupyter-widgets/controls",
            "_model_module_version": "1.5.0",
            "_model_name": "DescriptionStyleModel",
            "_view_count": null,
            "_view_module": "@jupyter-widgets/base",
            "_view_module_version": "1.2.0",
            "_view_name": "StyleView",
            "description_width": ""
          }
        },
        "73326197c0d348ce82fa09b6e3317e79": {
          "model_module": "@jupyter-widgets/base",
          "model_name": "LayoutModel",
          "model_module_version": "1.2.0",
          "state": {
            "_model_module": "@jupyter-widgets/base",
            "_model_module_version": "1.2.0",
            "_model_name": "LayoutModel",
            "_view_count": null,
            "_view_module": "@jupyter-widgets/base",
            "_view_module_version": "1.2.0",
            "_view_name": "LayoutView",
            "align_content": null,
            "align_items": null,
            "align_self": null,
            "border": null,
            "bottom": null,
            "display": null,
            "flex": null,
            "flex_flow": null,
            "grid_area": null,
            "grid_auto_columns": null,
            "grid_auto_flow": null,
            "grid_auto_rows": null,
            "grid_column": null,
            "grid_gap": null,
            "grid_row": null,
            "grid_template_areas": null,
            "grid_template_columns": null,
            "grid_template_rows": null,
            "height": null,
            "justify_content": null,
            "justify_items": null,
            "left": null,
            "margin": null,
            "max_height": null,
            "max_width": null,
            "min_height": null,
            "min_width": null,
            "object_fit": null,
            "object_position": null,
            "order": null,
            "overflow": null,
            "overflow_x": null,
            "overflow_y": null,
            "padding": null,
            "right": null,
            "top": null,
            "visibility": null,
            "width": null
          }
        },
        "31e3372c35844ece9c93fc98ef89be4a": {
          "model_module": "@jupyter-widgets/controls",
          "model_name": "ProgressStyleModel",
          "model_module_version": "1.5.0",
          "state": {
            "_model_module": "@jupyter-widgets/controls",
            "_model_module_version": "1.5.0",
            "_model_name": "ProgressStyleModel",
            "_view_count": null,
            "_view_module": "@jupyter-widgets/base",
            "_view_module_version": "1.2.0",
            "_view_name": "StyleView",
            "bar_color": null,
            "description_width": ""
          }
        },
        "34be488bf45943b7bb3bee0239011464": {
          "model_module": "@jupyter-widgets/base",
          "model_name": "LayoutModel",
          "model_module_version": "1.2.0",
          "state": {
            "_model_module": "@jupyter-widgets/base",
            "_model_module_version": "1.2.0",
            "_model_name": "LayoutModel",
            "_view_count": null,
            "_view_module": "@jupyter-widgets/base",
            "_view_module_version": "1.2.0",
            "_view_name": "LayoutView",
            "align_content": null,
            "align_items": null,
            "align_self": null,
            "border": null,
            "bottom": null,
            "display": null,
            "flex": null,
            "flex_flow": null,
            "grid_area": null,
            "grid_auto_columns": null,
            "grid_auto_flow": null,
            "grid_auto_rows": null,
            "grid_column": null,
            "grid_gap": null,
            "grid_row": null,
            "grid_template_areas": null,
            "grid_template_columns": null,
            "grid_template_rows": null,
            "height": null,
            "justify_content": null,
            "justify_items": null,
            "left": null,
            "margin": null,
            "max_height": null,
            "max_width": null,
            "min_height": null,
            "min_width": null,
            "object_fit": null,
            "object_position": null,
            "order": null,
            "overflow": null,
            "overflow_x": null,
            "overflow_y": null,
            "padding": null,
            "right": null,
            "top": null,
            "visibility": null,
            "width": null
          }
        },
        "f423f435a4824e07a16e45652a324395": {
          "model_module": "@jupyter-widgets/controls",
          "model_name": "DescriptionStyleModel",
          "model_module_version": "1.5.0",
          "state": {
            "_model_module": "@jupyter-widgets/controls",
            "_model_module_version": "1.5.0",
            "_model_name": "DescriptionStyleModel",
            "_view_count": null,
            "_view_module": "@jupyter-widgets/base",
            "_view_module_version": "1.2.0",
            "_view_name": "StyleView",
            "description_width": ""
          }
        },
        "c241a78c902c44bb9f4ab44eff1ece7a": {
          "model_module": "@jupyter-widgets/controls",
          "model_name": "HBoxModel",
          "model_module_version": "1.5.0",
          "state": {
            "_dom_classes": [],
            "_model_module": "@jupyter-widgets/controls",
            "_model_module_version": "1.5.0",
            "_model_name": "HBoxModel",
            "_view_count": null,
            "_view_module": "@jupyter-widgets/controls",
            "_view_module_version": "1.5.0",
            "_view_name": "HBoxView",
            "box_style": "",
            "children": [
              "IPY_MODEL_efac257a4aa94f54bc3013fea9668bc3",
              "IPY_MODEL_f7daacaa23a5429295b3d2880cd5fce0",
              "IPY_MODEL_11b105e1eb33455d9383dc48ca5a0e65"
            ],
            "layout": "IPY_MODEL_24fd09df736a45ccb903b7688778abf1"
          }
        },
        "efac257a4aa94f54bc3013fea9668bc3": {
          "model_module": "@jupyter-widgets/controls",
          "model_name": "HTMLModel",
          "model_module_version": "1.5.0",
          "state": {
            "_dom_classes": [],
            "_model_module": "@jupyter-widgets/controls",
            "_model_module_version": "1.5.0",
            "_model_name": "HTMLModel",
            "_view_count": null,
            "_view_module": "@jupyter-widgets/controls",
            "_view_module_version": "1.5.0",
            "_view_name": "HTMLView",
            "description": "",
            "description_tooltip": null,
            "layout": "IPY_MODEL_3caeb1bc103743fc975dd531b12923b0",
            "placeholder": "​",
            "style": "IPY_MODEL_13d559d7aa514d18b790e2fbfd478c77",
            "value": "vocab.json: 100%"
          }
        },
        "f7daacaa23a5429295b3d2880cd5fce0": {
          "model_module": "@jupyter-widgets/controls",
          "model_name": "FloatProgressModel",
          "model_module_version": "1.5.0",
          "state": {
            "_dom_classes": [],
            "_model_module": "@jupyter-widgets/controls",
            "_model_module_version": "1.5.0",
            "_model_name": "FloatProgressModel",
            "_view_count": null,
            "_view_module": "@jupyter-widgets/controls",
            "_view_module_version": "1.5.0",
            "_view_name": "ProgressView",
            "bar_style": "success",
            "description": "",
            "description_tooltip": null,
            "layout": "IPY_MODEL_ed0892fef1db435d9bb3673f43a28d4a",
            "max": 1339166,
            "min": 0,
            "orientation": "horizontal",
            "style": "IPY_MODEL_4be1615d429d438e87149f0c644392f3",
            "value": 1339166
          }
        },
        "11b105e1eb33455d9383dc48ca5a0e65": {
          "model_module": "@jupyter-widgets/controls",
          "model_name": "HTMLModel",
          "model_module_version": "1.5.0",
          "state": {
            "_dom_classes": [],
            "_model_module": "@jupyter-widgets/controls",
            "_model_module_version": "1.5.0",
            "_model_name": "HTMLModel",
            "_view_count": null,
            "_view_module": "@jupyter-widgets/controls",
            "_view_module_version": "1.5.0",
            "_view_name": "HTMLView",
            "description": "",
            "description_tooltip": null,
            "layout": "IPY_MODEL_38df618a31ab4f6bacb5a3bd9a5b9b37",
            "placeholder": "​",
            "style": "IPY_MODEL_b99df11d056f472a938043698c2392ad",
            "value": " 1.34M/1.34M [00:00&lt;00:00, 11.6MB/s]"
          }
        },
        "24fd09df736a45ccb903b7688778abf1": {
          "model_module": "@jupyter-widgets/base",
          "model_name": "LayoutModel",
          "model_module_version": "1.2.0",
          "state": {
            "_model_module": "@jupyter-widgets/base",
            "_model_module_version": "1.2.0",
            "_model_name": "LayoutModel",
            "_view_count": null,
            "_view_module": "@jupyter-widgets/base",
            "_view_module_version": "1.2.0",
            "_view_name": "LayoutView",
            "align_content": null,
            "align_items": null,
            "align_self": null,
            "border": null,
            "bottom": null,
            "display": null,
            "flex": null,
            "flex_flow": null,
            "grid_area": null,
            "grid_auto_columns": null,
            "grid_auto_flow": null,
            "grid_auto_rows": null,
            "grid_column": null,
            "grid_gap": null,
            "grid_row": null,
            "grid_template_areas": null,
            "grid_template_columns": null,
            "grid_template_rows": null,
            "height": null,
            "justify_content": null,
            "justify_items": null,
            "left": null,
            "margin": null,
            "max_height": null,
            "max_width": null,
            "min_height": null,
            "min_width": null,
            "object_fit": null,
            "object_position": null,
            "order": null,
            "overflow": null,
            "overflow_x": null,
            "overflow_y": null,
            "padding": null,
            "right": null,
            "top": null,
            "visibility": null,
            "width": null
          }
        },
        "3caeb1bc103743fc975dd531b12923b0": {
          "model_module": "@jupyter-widgets/base",
          "model_name": "LayoutModel",
          "model_module_version": "1.2.0",
          "state": {
            "_model_module": "@jupyter-widgets/base",
            "_model_module_version": "1.2.0",
            "_model_name": "LayoutModel",
            "_view_count": null,
            "_view_module": "@jupyter-widgets/base",
            "_view_module_version": "1.2.0",
            "_view_name": "LayoutView",
            "align_content": null,
            "align_items": null,
            "align_self": null,
            "border": null,
            "bottom": null,
            "display": null,
            "flex": null,
            "flex_flow": null,
            "grid_area": null,
            "grid_auto_columns": null,
            "grid_auto_flow": null,
            "grid_auto_rows": null,
            "grid_column": null,
            "grid_gap": null,
            "grid_row": null,
            "grid_template_areas": null,
            "grid_template_columns": null,
            "grid_template_rows": null,
            "height": null,
            "justify_content": null,
            "justify_items": null,
            "left": null,
            "margin": null,
            "max_height": null,
            "max_width": null,
            "min_height": null,
            "min_width": null,
            "object_fit": null,
            "object_position": null,
            "order": null,
            "overflow": null,
            "overflow_x": null,
            "overflow_y": null,
            "padding": null,
            "right": null,
            "top": null,
            "visibility": null,
            "width": null
          }
        },
        "13d559d7aa514d18b790e2fbfd478c77": {
          "model_module": "@jupyter-widgets/controls",
          "model_name": "DescriptionStyleModel",
          "model_module_version": "1.5.0",
          "state": {
            "_model_module": "@jupyter-widgets/controls",
            "_model_module_version": "1.5.0",
            "_model_name": "DescriptionStyleModel",
            "_view_count": null,
            "_view_module": "@jupyter-widgets/base",
            "_view_module_version": "1.2.0",
            "_view_name": "StyleView",
            "description_width": ""
          }
        },
        "ed0892fef1db435d9bb3673f43a28d4a": {
          "model_module": "@jupyter-widgets/base",
          "model_name": "LayoutModel",
          "model_module_version": "1.2.0",
          "state": {
            "_model_module": "@jupyter-widgets/base",
            "_model_module_version": "1.2.0",
            "_model_name": "LayoutModel",
            "_view_count": null,
            "_view_module": "@jupyter-widgets/base",
            "_view_module_version": "1.2.0",
            "_view_name": "LayoutView",
            "align_content": null,
            "align_items": null,
            "align_self": null,
            "border": null,
            "bottom": null,
            "display": null,
            "flex": null,
            "flex_flow": null,
            "grid_area": null,
            "grid_auto_columns": null,
            "grid_auto_flow": null,
            "grid_auto_rows": null,
            "grid_column": null,
            "grid_gap": null,
            "grid_row": null,
            "grid_template_areas": null,
            "grid_template_columns": null,
            "grid_template_rows": null,
            "height": null,
            "justify_content": null,
            "justify_items": null,
            "left": null,
            "margin": null,
            "max_height": null,
            "max_width": null,
            "min_height": null,
            "min_width": null,
            "object_fit": null,
            "object_position": null,
            "order": null,
            "overflow": null,
            "overflow_x": null,
            "overflow_y": null,
            "padding": null,
            "right": null,
            "top": null,
            "visibility": null,
            "width": null
          }
        },
        "4be1615d429d438e87149f0c644392f3": {
          "model_module": "@jupyter-widgets/controls",
          "model_name": "ProgressStyleModel",
          "model_module_version": "1.5.0",
          "state": {
            "_model_module": "@jupyter-widgets/controls",
            "_model_module_version": "1.5.0",
            "_model_name": "ProgressStyleModel",
            "_view_count": null,
            "_view_module": "@jupyter-widgets/base",
            "_view_module_version": "1.2.0",
            "_view_name": "StyleView",
            "bar_color": null,
            "description_width": ""
          }
        },
        "38df618a31ab4f6bacb5a3bd9a5b9b37": {
          "model_module": "@jupyter-widgets/base",
          "model_name": "LayoutModel",
          "model_module_version": "1.2.0",
          "state": {
            "_model_module": "@jupyter-widgets/base",
            "_model_module_version": "1.2.0",
            "_model_name": "LayoutModel",
            "_view_count": null,
            "_view_module": "@jupyter-widgets/base",
            "_view_module_version": "1.2.0",
            "_view_name": "LayoutView",
            "align_content": null,
            "align_items": null,
            "align_self": null,
            "border": null,
            "bottom": null,
            "display": null,
            "flex": null,
            "flex_flow": null,
            "grid_area": null,
            "grid_auto_columns": null,
            "grid_auto_flow": null,
            "grid_auto_rows": null,
            "grid_column": null,
            "grid_gap": null,
            "grid_row": null,
            "grid_template_areas": null,
            "grid_template_columns": null,
            "grid_template_rows": null,
            "height": null,
            "justify_content": null,
            "justify_items": null,
            "left": null,
            "margin": null,
            "max_height": null,
            "max_width": null,
            "min_height": null,
            "min_width": null,
            "object_fit": null,
            "object_position": null,
            "order": null,
            "overflow": null,
            "overflow_x": null,
            "overflow_y": null,
            "padding": null,
            "right": null,
            "top": null,
            "visibility": null,
            "width": null
          }
        },
        "b99df11d056f472a938043698c2392ad": {
          "model_module": "@jupyter-widgets/controls",
          "model_name": "DescriptionStyleModel",
          "model_module_version": "1.5.0",
          "state": {
            "_model_module": "@jupyter-widgets/controls",
            "_model_module_version": "1.5.0",
            "_model_name": "DescriptionStyleModel",
            "_view_count": null,
            "_view_module": "@jupyter-widgets/base",
            "_view_module_version": "1.2.0",
            "_view_name": "StyleView",
            "description_width": ""
          }
        }
      }
    }
  },
  "cells": [
    {
      "cell_type": "markdown",
      "source": [
        "#**1. Write program demonstrates how to use regular expressions in Python to match and search for patterns in text.**"
      ],
      "metadata": {
        "id": "b4uno_yWvfE1"
      }
    },
    {
      "cell_type": "code",
      "execution_count": 1,
      "metadata": {
        "colab": {
          "base_uri": "https://localhost:8080/"
        },
        "id": "W9Qxxd7duN4X",
        "outputId": "6520011f-f675-472a-8956-872ecb8d2cef"
      },
      "outputs": [
        {
          "output_type": "stream",
          "name": "stdout",
          "text": [
            "Matches: ['abc', 'abcd']\n"
          ]
        }
      ],
      "source": [
        "import re\n",
        "# Text to search for patterns\n",
        "text = \"Hello, this is a sample text with some patterns like abc and abcd.\"\n",
        "# Define a regular expression pattern\n",
        "pattern = r'\\b\\w*ab\\w*\\b'\n",
        "# Search for the pattern in the text\n",
        "matches = re.findall(pattern, text)\n",
        "# Print the matches\n",
        "print(\"Matches:\", matches)"
      ]
    },
    {
      "cell_type": "markdown",
      "source": [
        "#**2. Implement a basic finite state automaton that recognizes a specific language or pattern. In this example, we'll create a simple automaton to match strings ending with 'ab' using python.**"
      ],
      "metadata": {
        "id": "xJVkfw5Vvnyt"
      }
    },
    {
      "cell_type": "code",
      "source": [
        "class FSA:\n",
        "    def __init__(self):\n",
        "        self.state = 0\n",
        "\n",
        "    def transition(self, char):\n",
        "        if self.state == 0 and char == 'a':\n",
        "            self.state = 1\n",
        "        elif self.state == 1 and char == 'b':\n",
        "            self.state = 2\n",
        "        else:\n",
        "            self.state = 0\n",
        "\n",
        "    def is_accepted(self):\n",
        "        return self.state == 2\n",
        "\n",
        "# Test the FSA\n",
        "def test_fsa(input_str):\n",
        "    automaton = FSA()\n",
        "    for char in input_str:\n",
        "        automaton.transition(char)\n",
        "    return automaton.is_accepted()\n",
        "\n",
        "# Example usage\n",
        "test_string = \"some textab\"\n",
        "result = test_fsa(test_string)\n",
        "print(f\"Does '{test_string}' end with 'ab'? {result}\")"
      ],
      "metadata": {
        "colab": {
          "base_uri": "https://localhost:8080/"
        },
        "id": "VbMPM0Qjvlvf",
        "outputId": "555dbbc6-45a4-41d0-e2be-65be1d05c4bc"
      },
      "execution_count": 2,
      "outputs": [
        {
          "output_type": "stream",
          "name": "stdout",
          "text": [
            "Does 'some textab' end with 'ab'? True\n"
          ]
        }
      ]
    },
    {
      "cell_type": "markdown",
      "source": [
        "#**3. Write program demonstrates how to perform morphological analysis using the NLTK library in Python.**"
      ],
      "metadata": {
        "id": "PSAAYhnlv3i5"
      }
    },
    {
      "cell_type": "code",
      "source": [
        "class PluralizationFSM:\n",
        "    def __init__(self):\n",
        "        self.state = 0  # Initial state\n",
        "\n",
        "    def transition(self, word):\n",
        "        if self.state == 0 and word.endswith('s'):\n",
        "            self.state = 1  # Noun ends with 's', no change\n",
        "        elif self.state == 0 and word.endswith('y'):\n",
        "            self.state = 2  # Noun ends with 'y,' switch to 'ies'\n",
        "        elif self.state == 0:\n",
        "            self.state = 3  # Noun ends with another letter, add 's'\n",
        "\n",
        "    def pluralize(self, word):\n",
        "        self.state = 0  # Reset the state\n",
        "        self.transition(word)  # Transition based on rules\n",
        "        if self.state == 1:\n",
        "            return word  # No change\n",
        "        elif self.state == 2:\n",
        "            return word[:-1] + 'ies'  # Change 'y' to 'ies'\n",
        "        elif self.state == 3:\n",
        "            return word + 's'  # Add 's'\n",
        "\n",
        "# Example usage\n",
        "fsm = PluralizationFSM()\n",
        "nouns = ['cat', 'dog', 'bus', 'dress', 'class']\n",
        "pluralized_nouns = [fsm.pluralize(noun) for noun in nouns]\n",
        "\n",
        "for singular, plural in zip(nouns, pluralized_nouns):\n",
        "    print(f\"{singular} (singular) -> {plural} (plural)\")"
      ],
      "metadata": {
        "colab": {
          "base_uri": "https://localhost:8080/"
        },
        "id": "EffVXSeavu6E",
        "outputId": "e0970285-e04d-4d7a-f591-ffdbf28291c9"
      },
      "execution_count": 4,
      "outputs": [
        {
          "output_type": "stream",
          "name": "stdout",
          "text": [
            "cat (singular) -> cats (plural)\n",
            "dog (singular) -> dogs (plural)\n",
            "bus (singular) -> bus (plural)\n",
            "dress (singular) -> dress (plural)\n",
            "class (singular) -> class (plural)\n"
          ]
        }
      ]
    },
    {
      "cell_type": "markdown",
      "source": [
        "#**4. Implement a finite-state machine for morphological parsing. In this example, we'll create a simple machine to generate plural forms of English nouns using python.**"
      ],
      "metadata": {
        "id": "8uWyXB28wfkz"
      }
    },
    {
      "cell_type": "code",
      "source": [
        "class MorphologicalFSM:\n",
        "    def __init__(self):\n",
        "        self.state = 0\n",
        "\n",
        "    def parse(self, word):\n",
        "        if word.endswith('s'):\n",
        "            self.state = 1\n",
        "        else:\n",
        "            self.state = 0\n",
        "\n",
        "    def generate_plural(self, word):\n",
        "        if self.state == 0:\n",
        "            return word + 's'\n",
        "        else:\n",
        "            return word  # Already plural\n",
        "\n",
        "# Test the MorphologicalFSM\n",
        "def test_morphological_fsm(word):\n",
        "    fsm = MorphologicalFSM()\n",
        "    fsm.parse(word)\n",
        "    plural_form = fsm.generate_plural(word)\n",
        "    return plural_form\n",
        "\n",
        "# Example usage\n",
        "word_to_pluralize = \"cat\"\n",
        "plural_result = test_morphological_fsm(word_to_pluralize)\n",
        "print(f\"The plural form of '{word_to_pluralize}' is '{plural_result}'.\")"
      ],
      "metadata": {
        "colab": {
          "base_uri": "https://localhost:8080/"
        },
        "id": "4fsrovYAv2kS",
        "outputId": "930de361-091c-469a-afe5-417deb08f367"
      },
      "execution_count": 5,
      "outputs": [
        {
          "output_type": "stream",
          "name": "stdout",
          "text": [
            "The plural form of 'cat' is 'cats'.\n"
          ]
        }
      ]
    },
    {
      "cell_type": "markdown",
      "source": [
        "#**5. Use the Porter Stemmer algorithm to perform word stemming on a list of words using python libraries.**"
      ],
      "metadata": {
        "id": "uzeRjKjuwaqN"
      }
    },
    {
      "cell_type": "code",
      "source": [
        "from nltk.stem import PorterStemmer\n",
        "\n",
        "# Sample list of words for stemming\n",
        "words_to_stem = [\"running\", \"jumps\", \"happily\", \"cats\", \"easily\"]\n",
        "\n",
        "# Create a Porter Stemmer\n",
        "porter_stemmer = PorterStemmer()\n",
        "\n",
        "# Perform stemming on the list of words\n",
        "stemmed_words = [porter_stemmer.stem(word) for word in words_to_stem]\n",
        "\n",
        "# Print the results\n",
        "print(\"Original words:\", words_to_stem)\n",
        "print(\"Stemmed words:\", stemmed_words)\n"
      ],
      "metadata": {
        "colab": {
          "base_uri": "https://localhost:8080/"
        },
        "id": "XnTwIdlCwVEn",
        "outputId": "da5dfdb5-3c8e-435a-8bb0-6a9e1a2a835d"
      },
      "execution_count": 6,
      "outputs": [
        {
          "output_type": "stream",
          "name": "stdout",
          "text": [
            "Original words: ['running', 'jumps', 'happily', 'cats', 'easily']\n",
            "Stemmed words: ['run', 'jump', 'happili', 'cat', 'easili']\n"
          ]
        }
      ]
    },
    {
      "cell_type": "markdown",
      "source": [
        "#**6. Implement a basic N-gram model for text generation. For example, generate text using a bigram model using python.**"
      ],
      "metadata": {
        "id": "M8AWzo4Lwmqv"
      }
    },
    {
      "cell_type": "code",
      "source": [
        "import random\n",
        "\n",
        "def build_bigram_model(text):\n",
        "    bigram_model = {}\n",
        "    words = text.split()\n",
        "\n",
        "    for i in range(len(words) - 1):\n",
        "        current_word = words[i]\n",
        "        next_word = words[i + 1]\n",
        "\n",
        "        if current_word in bigram_model:\n",
        "            bigram_model[current_word].append(next_word)\n",
        "        else:\n",
        "            bigram_model[current_word] = [next_word]\n",
        "\n",
        "    return bigram_model\n",
        "\n",
        "def generate_text(bigram_model, seed_word, length=10):\n",
        "    current_word = seed_word\n",
        "    generated_text = [current_word]\n",
        "\n",
        "    for _ in range(length - 1):\n",
        "        if current_word in bigram_model:\n",
        "            next_word = random.choice(bigram_model[current_word])\n",
        "            generated_text.append(next_word)\n",
        "            current_word = next_word\n",
        "        else:\n",
        "            break\n",
        "\n",
        "    return ' '.join(generated_text)\n",
        "\n",
        "# Example usage\n",
        "sample_text = \"This is a sample text for demonstrating a bigram model in Python. This model generates text based on the probability of the next word given the current word.\"\n",
        "bigram_model = build_bigram_model(sample_text)\n",
        "seed_word = \"This\"\n",
        "generated_text = generate_text(bigram_model, seed_word, length=15)\n",
        "\n",
        "print(\"Original Text:\")\n",
        "print(sample_text)\n",
        "print(\"\\nGenerated Text:\")\n",
        "print(generated_text)"
      ],
      "metadata": {
        "colab": {
          "base_uri": "https://localhost:8080/"
        },
        "id": "hp_stof3wZYb",
        "outputId": "d282409e-c307-4832-f450-08d1e253f502"
      },
      "execution_count": 7,
      "outputs": [
        {
          "output_type": "stream",
          "name": "stdout",
          "text": [
            "Original Text:\n",
            "This is a sample text for demonstrating a bigram model in Python. This model generates text based on the probability of the next word given the current word.\n",
            "\n",
            "Generated Text:\n",
            "This is a sample text for demonstrating a sample text based on the current word.\n"
          ]
        }
      ]
    },
    {
      "cell_type": "markdown",
      "source": [
        "#**7. Write program using the NLTK library to perform part-of-speech tagging on a text.**"
      ],
      "metadata": {
        "id": "8OzlYnpQwzFh"
      }
    },
    {
      "cell_type": "code",
      "source": [
        "import nltk\n",
        "from nltk.tokenize import word_tokenize\n",
        "\n",
        "# Download NLTK data for part-of-speech tagging\n",
        "nltk.download('punkt')\n",
        "nltk.download('averaged_perceptron_tagger')\n",
        "\n",
        "def pos_tagging(text):\n",
        "    # Tokenize the text\n",
        "    words = word_tokenize(text)\n",
        "\n",
        "    # Perform part-of-speech tagging\n",
        "    pos_tags = nltk.pos_tag(words)\n",
        "\n",
        "    return pos_tags\n",
        "\n",
        "# Example text\n",
        "sample_text = \"NLTK is a powerful library for natural language processing.\"\n",
        "\n",
        "# Perform part-of-speech tagging\n",
        "pos_tags_result = pos_tagging(sample_text)\n",
        "\n",
        "# Print the result\n",
        "print(\"Original Text:\")\n",
        "print(sample_text)\n",
        "print(\"\\nPart-of-Speech Tags:\")\n",
        "print(pos_tags_result)"
      ],
      "metadata": {
        "colab": {
          "base_uri": "https://localhost:8080/"
        },
        "id": "_OnA6GHCwrWm",
        "outputId": "dd4b8e20-c58a-4e1a-959b-da8a11ef54b7"
      },
      "execution_count": 8,
      "outputs": [
        {
          "output_type": "stream",
          "name": "stderr",
          "text": [
            "[nltk_data] Downloading package punkt to /root/nltk_data...\n",
            "[nltk_data]   Package punkt is already up-to-date!\n",
            "[nltk_data] Downloading package averaged_perceptron_tagger to\n",
            "[nltk_data]     /root/nltk_data...\n",
            "[nltk_data]   Unzipping taggers/averaged_perceptron_tagger.zip.\n"
          ]
        },
        {
          "output_type": "stream",
          "name": "stdout",
          "text": [
            "Original Text:\n",
            "NLTK is a powerful library for natural language processing.\n",
            "\n",
            "Part-of-Speech Tags:\n",
            "[('NLTK', 'NNP'), ('is', 'VBZ'), ('a', 'DT'), ('powerful', 'JJ'), ('library', 'NN'), ('for', 'IN'), ('natural', 'JJ'), ('language', 'NN'), ('processing', 'NN'), ('.', '.')]\n"
          ]
        }
      ]
    },
    {
      "cell_type": "markdown",
      "source": [
        "#**8. Implement a simple stochastic part-of-speech tagging algorithm using a basic probabilistic model to assign POS tags using python.**"
      ],
      "metadata": {
        "id": "JYAOpm1zxCl1"
      }
    },
    {
      "cell_type": "code",
      "source": [
        "import nltk\n",
        "import random\n",
        "\n",
        "# Download NLTK data for part-of-speech tagging\n",
        "nltk.download('punkt')\n",
        "nltk.download('averaged_perceptron_tagger')\n",
        "\n",
        "def train_stochastic_pos_tagger(corpus):\n",
        "    # Tokenize and tag the provided corpus\n",
        "    tagged_corpus = [nltk.pos_tag(nltk.word_tokenize(sentence)) for sentence in corpus]\n",
        "\n",
        "    # Build a basic probabilistic model\n",
        "    pos_probabilities = {}\n",
        "    for tagged_sentence in tagged_corpus:\n",
        "        for word, pos_tag in tagged_sentence:\n",
        "            if pos_tag not in pos_probabilities:\n",
        "                pos_probabilities[pos_tag] = {}\n",
        "\n",
        "            if word not in pos_probabilities[pos_tag]:\n",
        "                pos_probabilities[pos_tag][word] = 1\n",
        "            else:\n",
        "                pos_probabilities[pos_tag][word] += 1\n",
        "\n",
        "    # Normalize probabilities\n",
        "    for pos_tag in pos_probabilities:\n",
        "        total_count = sum(pos_probabilities[pos_tag].values())\n",
        "        for word in pos_probabilities[pos_tag]:\n",
        "            pos_probabilities[pos_tag][word] /= total_count\n",
        "\n",
        "    return pos_probabilities\n",
        "\n",
        "def stochastic_pos_tagging(sentence, pos_probabilities):\n",
        "    words = nltk.word_tokenize(sentence)\n",
        "    pos_tags = []\n",
        "\n",
        "    for word in words:\n",
        "        if word in pos_probabilities:\n",
        "            pos_tag_probabilities = pos_probabilities[word]\n",
        "            chosen_pos_tag = random.choices(list(pos_tag_probabilities.keys()), weights=list(pos_tag_probabilities.values()))[0]\n",
        "            pos_tags.append((word, chosen_pos_tag))\n",
        "        else:\n",
        "            # If the word is not in the model, assign a default POS tag\n",
        "            pos_tags.append((word, 'NN'))  # Defaulting to 'NN' (Noun)\n",
        "\n",
        "    return pos_tags\n",
        "\n",
        "# Example training corpus\n",
        "training_corpus = [\n",
        "    \"This is a sample sentence.\",\n",
        "    \"POS tagging helps analyze text.\",\n",
        "    \"NLTK provides useful tools for NLP.\",\n",
        "]\n",
        "\n",
        "# Train the stochastic POS tagger\n",
        "pos_probabilities_model = train_stochastic_pos_tagger(training_corpus)\n",
        "\n",
        "# Example sentence for tagging\n",
        "sample_sentence = \"This is a test sentence for the stochastic POS tagger.\"\n",
        "\n",
        "# Perform stochastic POS tagging\n",
        "stochastic_pos_tags = stochastic_pos_tagging(sample_sentence, pos_probabilities_model)\n",
        "\n",
        "# Print the results\n",
        "print(\"Original Sentence:\")\n",
        "print(sample_sentence)\n",
        "print(\"\\nStochastic POS Tags:\")\n",
        "print(stochastic_pos_tags)\n"
      ],
      "metadata": {
        "colab": {
          "base_uri": "https://localhost:8080/"
        },
        "id": "4Et8zFGjwyT1",
        "outputId": "86ee292d-4960-4fb7-9dfa-8e612e009c7b"
      },
      "execution_count": 9,
      "outputs": [
        {
          "output_type": "stream",
          "name": "stdout",
          "text": [
            "Original Sentence:\n",
            "This is a test sentence for the stochastic POS tagger.\n",
            "\n",
            "Stochastic POS Tags:\n",
            "[('This', 'NN'), ('is', 'NN'), ('a', 'NN'), ('test', 'NN'), ('sentence', 'NN'), ('for', 'NN'), ('the', 'NN'), ('stochastic', 'NN'), ('POS', 'NN'), ('tagger', 'NN'), ('.', '.')]\n"
          ]
        },
        {
          "output_type": "stream",
          "name": "stderr",
          "text": [
            "[nltk_data] Downloading package punkt to /root/nltk_data...\n",
            "[nltk_data]   Package punkt is already up-to-date!\n",
            "[nltk_data] Downloading package averaged_perceptron_tagger to\n",
            "[nltk_data]     /root/nltk_data...\n",
            "[nltk_data]   Package averaged_perceptron_tagger is already up-to-\n",
            "[nltk_data]       date!\n"
          ]
        }
      ]
    },
    {
      "cell_type": "markdown",
      "source": [
        "#**9. Implement a rule-based part-of-speech tagging system using regular expressions using python.**"
      ],
      "metadata": {
        "id": "w4OjLQlWxLIN"
      }
    },
    {
      "cell_type": "code",
      "source": [
        "import re\n",
        "\n",
        "def rule_based_pos_tagging(sentence):\n",
        "    pos_tags = []\n",
        "\n",
        "    for word in sentence.split():\n",
        "        if re.match(r'\\b(?:is|am|are|was|were)\\b', word, re.I):\n",
        "            pos_tags.append((word, 'VB'))  # Verb (to be)\n",
        "        elif re.match(r'\\b(?:the|a|an)\\b', word, re.I):\n",
        "            pos_tags.append((word, 'DT'))  # Determiner\n",
        "        elif re.match(r'\\b(?:cat|dog|bird)\\b', word, re.I):\n",
        "            pos_tags.append((word, 'NN'))  # Noun\n",
        "        elif re.match(r'\\b(?:quick|brown|lazy)\\b', word, re.I):\n",
        "            pos_tags.append((word, 'JJ'))  # Adjective\n",
        "        else:\n",
        "            pos_tags.append((word, 'NN'))  # Default to Noun\n",
        "\n",
        "    return pos_tags\n",
        "\n",
        "# Example sentence for tagging\n",
        "sample_sentence = \"The quick brown fox is a lazy dog.\"\n",
        "\n",
        "# Perform rule-based POS tagging\n",
        "rule_based_pos_tags = rule_based_pos_tagging(sample_sentence)\n",
        "\n",
        "# Print the results\n",
        "print(\"Original Sentence:\")\n",
        "print(sample_sentence)\n",
        "print(\"\\nRule-Based POS Tags:\")\n",
        "print(rule_based_pos_tags)\n"
      ],
      "metadata": {
        "colab": {
          "base_uri": "https://localhost:8080/"
        },
        "id": "bpoQw2eGxFJ8",
        "outputId": "42087f2b-98ea-40b8-805e-3dabd7277ebd"
      },
      "execution_count": 10,
      "outputs": [
        {
          "output_type": "stream",
          "name": "stdout",
          "text": [
            "Original Sentence:\n",
            "The quick brown fox is a lazy dog.\n",
            "\n",
            "Rule-Based POS Tags:\n",
            "[('The', 'DT'), ('quick', 'JJ'), ('brown', 'JJ'), ('fox', 'NN'), ('is', 'VB'), ('a', 'DT'), ('lazy', 'JJ'), ('dog.', 'NN')]\n"
          ]
        }
      ]
    },
    {
      "cell_type": "markdown",
      "source": [
        "#**10. Implement transformation-based tagging using a set of transformation rules, apply a simple rule to tag words using python.**"
      ],
      "metadata": {
        "id": "hDOOvEGJxWF6"
      }
    },
    {
      "cell_type": "code",
      "source": [
        "# Define a simple transformation rule\n",
        "def transform_rule(word, tag):\n",
        "    if word.endswith('ed'):\n",
        "        return ('VBD', tag)\n",
        "    else:\n",
        "        return (word, tag)\n",
        "\n",
        "# Apply the transformation rule to a tagged sentence\n",
        "tagged_sentence = [('The', 'DT'), ('cat', 'NN'), ('sat', 'VBD'), ('on', 'IN'), ('the', 'DT'), ('mat', 'NN')]\n",
        "transformed_sentence = [(word, transform_rule(word, tag)[0]) for word, tag in tagged_sentence]\n",
        "\n",
        "# Print the transformed sentence\n",
        "print(transformed_sentence)"
      ],
      "metadata": {
        "colab": {
          "base_uri": "https://localhost:8080/"
        },
        "id": "iq3fHkZ7xPe6",
        "outputId": "9c999a09-aee9-4925-9d77-50b218879362"
      },
      "execution_count": 13,
      "outputs": [
        {
          "output_type": "stream",
          "name": "stdout",
          "text": [
            "[('The', 'The'), ('cat', 'cat'), ('sat', 'sat'), ('on', 'on'), ('the', 'the'), ('mat', 'mat')]\n"
          ]
        }
      ]
    },
    {
      "cell_type": "markdown",
      "source": [
        "#**11. Implement a simple top-down parser for context-free grammars using python.**"
      ],
      "metadata": {
        "id": "6-k3il3pyZL1"
      }
    },
    {
      "cell_type": "code",
      "source": [
        "class SimpleParser:\n",
        "    def __init__ (self, grammar):\n",
        "        self.grammar = grammar\n",
        "    def parse (self, input_string):\n",
        "        self.input = input_string\n",
        "        self.index = 0\n",
        "        self.result = True\n",
        "        if self.expression ():\n",
        "            if self.index == len (self.input):\n",
        "                print (f'Parsing successful for input: {input_string}')\n",
        "                return\n",
        "        print (f'Parsing failed for input: {input_string}')\n",
        "    def expression (self):\n",
        "        return self.term () and self.expression_tail ()\n",
        "    def expression_tail (self):\n",
        "        current_index = self.index\n",
        "        if self.match ('+'):\n",
        "            return self.term () and self.expression_tail ()\n",
        "        self.index = current_index\n",
        "        return True\n",
        "    def term (self):\n",
        "        return self.factor () and self.term_tail ()\n",
        "    def term_tail (self):\n",
        "        current_index = self.index\n",
        "        if self.match ('*'):\n",
        "            return self.factor () and self.term_tail ()\n",
        "        self.index = current_index\n",
        "        return True\n",
        "    def factor (self):\n",
        "        if self.match ('('):\n",
        "            if self.expression () and self.match (')'):\n",
        "                return True\n",
        "            return False\n",
        "        return self.match ('number')\n",
        "    def match (self, expected):\n",
        "        if self.index < len (self.input) and (expected == self.input [self.index] or expected == 'number' and self.input [self.index].isdigit ()):\n",
        "            self.index += 1\n",
        "            return True\n",
        "        return False\n",
        "\n",
        "grammar = {\n",
        "    'start': 'Expression',\n",
        "}\n",
        "\n",
        "parser = SimpleParser (grammar)\n",
        "\n",
        "parser.parse ('3* (2+1)')\n",
        "parser.parse ('2+1*3')\n",
        "parser.parse ('2+ (1*1)')"
      ],
      "metadata": {
        "colab": {
          "base_uri": "https://localhost:8080/"
        },
        "id": "KuZFk415xZuK",
        "outputId": "9bc31e81-1dab-46fd-b696-bbe257a75c13"
      },
      "execution_count": 17,
      "outputs": [
        {
          "output_type": "stream",
          "name": "stdout",
          "text": [
            "Parsing failed for input: 3* (2+1)\n",
            "Parsing successful for input: 2+1*3\n",
            "Parsing failed for input: 2+ (1*1)\n"
          ]
        }
      ]
    },
    {
      "cell_type": "markdown",
      "source": [
        "#**12. Implement an Earley parser for context-free grammars using a simple python program.**"
      ],
      "metadata": {
        "id": "_Xbn8gvdydS2"
      }
    },
    {
      "cell_type": "code",
      "source": [
        "class EarleyParser:\n",
        "    def __init__(self, grammar):\n",
        "        self.grammar = grammar\n",
        "    def parse(self, input_string):\n",
        "        self.chart = [[] for _ in range(len(input_string) + 1)]\n",
        "        self.chart[0].append(('start', '', 0))\n",
        "        for i in range(len(input_string) + 1):\n",
        "            for state in self.chart[i]:\n",
        "                self.predictor(state, i)\n",
        "                if i < len(input_string):\n",
        "                    self.scanner(state, input_string[i], i)\n",
        "                else:\n",
        "                    self.completer(state, i)\n",
        "        if ('start', self.grammar['start'], 0) in self.chart[len(input_string)]:\n",
        "            print(f'Parsing failed for input: {input_string}')\n",
        "        else:\n",
        "            print(f'Parsing successfull for input: {input_string}')\n",
        "    def predictor(self, state, index):\n",
        "        if state[1] in self.grammar:\n",
        "            for production in self.grammar[state[1]]:\n",
        "                self.chart[index].append((state[1], production, index))\n",
        "    def scanner(self, state, token, index):\n",
        "        if state[1] == '' or state[1][0] != token:\n",
        "            return\n",
        "        self.chart[index + 1].append((state[0], state[1][1:], state[2]))\n",
        "    def completer(self, state, index):\n",
        "        for st in self.chart[state[2]]:\n",
        "            if st[1] == '' or st[1][0] != state[0]:\n",
        "                continue\n",
        "            self.chart[index].append((st[0], st[1][1:], st[2]))\n",
        "# Example usage\n",
        "grammar = {\n",
        "    'start': 'Expression',\n",
        "    'Expression': ['Term + Expression', 'Term'],\n",
        "    'Term': ['Factor * Term', 'Factor'],\n",
        "    'Factor': ['( Expression )', 'number']\n",
        "}\n",
        "\n",
        "parser = EarleyParser(grammar)\n",
        "\n",
        "# Test the parser\n",
        "parser.parse('3* (2+1)') # Parsing successful for input: 3* (2+1)\n",
        "parser.parse('2+1*3') # Parsing successful for input: 2+1*3\n",
        "parser.parse('2+ (1*3)') # Parsing successful for input: 2+ (1*3)"
      ],
      "metadata": {
        "colab": {
          "base_uri": "https://localhost:8080/"
        },
        "id": "MOv_NMfqyEYy",
        "outputId": "2ef17b67-e6ae-48b4-a859-ee4fc9f03a60"
      },
      "execution_count": 16,
      "outputs": [
        {
          "output_type": "stream",
          "name": "stdout",
          "text": [
            "Parsing successfull for input: 3* (2+1)\n",
            "Parsing successfull for input: 2+1*3\n",
            "Parsing successfull for input: 2+ (1*3)\n"
          ]
        }
      ]
    },
    {
      "cell_type": "markdown",
      "source": [
        "#**13. Generate a parse tree for a given sentence using a context-free grammar using python program.**"
      ],
      "metadata": {
        "id": "qjiqhj9hyjlr"
      }
    },
    {
      "cell_type": "code",
      "source": [
        "import nltk\n",
        "\n",
        "def generate_parse_tree(grammar, sentence):\n",
        "    parser = nltk.ChartParser(grammar)\n",
        "    trees = parser.parse(sentence.split())\n",
        "    for tree in trees:\n",
        "        tree.pretty_print()\n",
        "\n",
        "# Example usage\n",
        "cfg = nltk.CFG.fromstring(\"\"\"\n",
        "    S -> NP VP\n",
        "    NP -> Det N\n",
        "    VP -> V NP\n",
        "    Det -> 'the' | 'a'\n",
        "    N -> 'dog' | 'cat'\n",
        "    V -> 'chased' | 'caught'\n",
        "\"\"\")\n",
        "\n",
        "generate_parse_tree(cfg, \"the dog chased a cat\")\n"
      ],
      "metadata": {
        "colab": {
          "base_uri": "https://localhost:8080/"
        },
        "id": "1eAgXQhXyCVz",
        "outputId": "1c11d6ab-1854-4765-c177-3889d3d045da"
      },
      "execution_count": 15,
      "outputs": [
        {
          "output_type": "stream",
          "name": "stdout",
          "text": [
            "              S               \n",
            "      ________|_____           \n",
            "     |              VP        \n",
            "     |         _____|___       \n",
            "     NP       |         NP    \n",
            "  ___|___     |      ___|___   \n",
            "Det      N    V    Det      N \n",
            " |       |    |     |       |  \n",
            "the     dog chased  a      cat\n",
            "\n"
          ]
        }
      ]
    },
    {
      "cell_type": "markdown",
      "source": [
        "#**14. Create a program in python to check for agreement in sentences based on a context-free grammar's rules.**"
      ],
      "metadata": {
        "id": "BFYdEbUGy8EQ"
      }
    },
    {
      "cell_type": "code",
      "source": [
        "import nltk\n",
        "def check_agreement(sentence):\n",
        "    tagged_words = nltk.pos_tag(nltk.word_tokenize(sentence))\n",
        "    subjects = [word for word, tag in tagged_words if tag.startswith('N')]\n",
        "    verbs = [word for word, tag in tagged_words if tag.startswith('V')]\n",
        "    if subjects and verbs:\n",
        "        subject_number = 'singular' if tagged_words[0][1].startswith('NNS') else 'singular'\n",
        "        verb_number = 'singular' if tagged_words[-1][1].startswith('VB') else 'plural'\n",
        "        if subject_number != verb_number:\n",
        "            print(\"Subject-verb agreement error:\")\n",
        "            print(f\"Subjects: {subjects} ({subject_number})\")\n",
        "            print(f\"Verbs: {verbs} ({verb_number})\")\n",
        "        else:\n",
        "            print(\"Subject-verb agreement is correct.\")\n",
        "    else:\n",
        "        print(\"Unable to find subjects and verbs in the sentence.\")\n",
        "example_sentence = \"The cat catches a dog\"\n",
        "check_agreement(example_sentence)"
      ],
      "metadata": {
        "colab": {
          "base_uri": "https://localhost:8080/"
        },
        "id": "_LRmRpMTy1Pd",
        "outputId": "1ad9d31b-cac6-46b2-b06f-91595ed45b58"
      },
      "execution_count": 19,
      "outputs": [
        {
          "output_type": "stream",
          "name": "stdout",
          "text": [
            "Subject-verb agreement error:\n",
            "Subjects: ['cat', 'dog'] (singular)\n",
            "Verbs: ['catches'] (plural)\n"
          ]
        }
      ]
    },
    {
      "cell_type": "markdown",
      "source": [
        "#**15. Implement probabilistic context-free grammar parsing for a sentence using python.**"
      ],
      "metadata": {
        "id": "EhlLRnorzFul"
      }
    },
    {
      "cell_type": "code",
      "source": [
        "import nltk\n",
        "from nltk import PCFG\n",
        "from nltk.parse import pchart\n",
        "\n",
        "# Updated PCFG\n",
        "pcfg_grammar = PCFG.fromstring(\"\"\"\n",
        "    S -> NP VP [1.0]\n",
        "    VP -> V NP [0.7] | VP PP [0.3]\n",
        "    PP -> P NP [1.0]\n",
        "    NP -> Det N [0.2] | NP PP [0.3] | N [0.5]\n",
        "    Det -> 'the' [0.8] | 'a' [0.2]\n",
        "    N -> 'dog' [0.4] | 'cat' [0.3] | 'stick' [0.3]\n",
        "    V -> 'chased' [0.9] | 'saw' [0.1]\n",
        "    P -> 'with' [0.6] | 'in' [0.4]\n",
        "\"\"\")\n",
        "\n",
        "# PCFG Parsing\n",
        "parser = pchart.InsideChartParser(pcfg_grammar)\n",
        "sentence = \"the dog chased the cat with a stick\"\n",
        "words = sentence.split()\n",
        "\n",
        "trees = parser.parse(words)\n",
        "for tree in trees:\n",
        "    tree.pretty_print()\n"
      ],
      "metadata": {
        "colab": {
          "base_uri": "https://localhost:8080/"
        },
        "id": "wQbYZteVz4_b",
        "outputId": "cd00ac60-d652-4a7b-d673-7f9e859fab3d"
      },
      "execution_count": 34,
      "outputs": [
        {
          "output_type": "stream",
          "name": "stdout",
          "text": [
            "                    S                            \n",
            "      ______________|_______                      \n",
            "     |                      VP                   \n",
            "     |         _____________|___                  \n",
            "     |        |                 NP               \n",
            "     |        |          _______|____             \n",
            "     |        |         |            PP          \n",
            "     |        |         |        ____|___         \n",
            "     NP       |         NP      |        NP      \n",
            "  ___|___     |      ___|___    |     ___|____    \n",
            "Det      N    V    Det      N   P   Det       N  \n",
            " |       |    |     |       |   |    |        |   \n",
            "the     dog chased the     cat with  a      stick\n",
            "\n",
            "                    S                            \n",
            "      ______________|_______                      \n",
            "     |                      VP                   \n",
            "     |               _______|________             \n",
            "     |              VP               PP          \n",
            "     |         _____|___         ____|___         \n",
            "     NP       |         NP      |        NP      \n",
            "  ___|___     |      ___|___    |     ___|____    \n",
            "Det      N    V    Det      N   P   Det       N  \n",
            " |       |    |     |       |   |    |        |   \n",
            "the     dog chased the     cat with  a      stick\n",
            "\n"
          ]
        }
      ]
    },
    {
      "cell_type": "markdown",
      "source": [
        "#**16. Implement a Python program using the SpaCy library to perform Named Entity Recognition (NER) on a given text.**"
      ],
      "metadata": {
        "id": "OiIUBzWazFrA"
      }
    },
    {
      "cell_type": "code",
      "source": [
        "import spacy\n",
        "\n",
        "# Load the SpaCy English model\n",
        "nlp = spacy.load(\"en_core_web_sm\")\n",
        "\n",
        "# Example sentence for Named Entity Recognition\n",
        "sample_text = \"Apple Inc. was founded by Steve Jobs in Cupertino. Google is headquartered in Mountain View.\"\n",
        "\n",
        "# Perform NER using SpaCy\n",
        "doc = nlp(sample_text)\n",
        "\n",
        "# Print named entities\n",
        "for ent in doc.ents:\n",
        "    print(f\"Entity: {ent.text}, Type: {ent.label_}\")"
      ],
      "metadata": {
        "colab": {
          "base_uri": "https://localhost:8080/"
        },
        "id": "u1i3UD5gz-aY",
        "outputId": "fcea9e03-c67b-45b0-cc82-abddb9669269"
      },
      "execution_count": 21,
      "outputs": [
        {
          "output_type": "stream",
          "name": "stdout",
          "text": [
            "Entity: Apple Inc., Type: ORG\n",
            "Entity: Steve Jobs, Type: PERSON\n",
            "Entity: Cupertino, Type: GPE\n",
            "Entity: Google, Type: ORG\n",
            "Entity: Mountain View, Type: GPE\n"
          ]
        }
      ]
    },
    {
      "cell_type": "markdown",
      "source": [
        "#**17. Write program demonstrates how to access WordNet, a lexical database, to retrieve synsets and explore word meanings in python.**"
      ],
      "metadata": {
        "id": "KtJCRHcezFpC"
      }
    },
    {
      "cell_type": "code",
      "source": [
        "import nltk\n",
        "nltk.download('wordnet')\n",
        "\n",
        "from nltk.corpus import wordnet\n",
        "\n",
        "# Example: Retrieve synsets for the word \"example\"\n",
        "synsets = wordnet.synsets(\"example\")\n",
        "\n",
        "# Check if there are any synsets\n",
        "if not synsets:\n",
        "    print(\"No synsets found for the word 'example'.\")\n",
        "else:\n",
        "    # Print information about each synset\n",
        "    for synset in synsets:\n",
        "        print(f\"Synset: {synset.name()}\")\n",
        "        print(f\"Definition: {synset.definition()}\")\n",
        "        print(f\"Examples: {synset.examples()}\\n\")\n"
      ],
      "metadata": {
        "colab": {
          "base_uri": "https://localhost:8080/"
        },
        "id": "UyqT9njXz-5X",
        "outputId": "c227250c-57bc-4b5a-c11c-e9df7d0757c2"
      },
      "execution_count": 37,
      "outputs": [
        {
          "output_type": "stream",
          "name": "stderr",
          "text": [
            "[nltk_data] Downloading package wordnet to /root/nltk_data...\n"
          ]
        },
        {
          "output_type": "stream",
          "name": "stdout",
          "text": [
            "Synset: example.n.01\n",
            "Definition: an item of information that is typical of a class or group\n",
            "Examples: ['this patient provides a typical example of the syndrome', 'there is an example on page 10']\n",
            "\n",
            "Synset: model.n.07\n",
            "Definition: a representative form or pattern\n",
            "Examples: ['I profited from his example']\n",
            "\n",
            "Synset: exemplar.n.01\n",
            "Definition: something to be imitated\n",
            "Examples: ['an exemplar of success', 'a model of clarity', 'he is the very model of a modern major general']\n",
            "\n",
            "Synset: example.n.04\n",
            "Definition: punishment intended as a warning to others\n",
            "Examples: ['they decided to make an example of him']\n",
            "\n",
            "Synset: case.n.01\n",
            "Definition: an occurrence of something\n",
            "Examples: ['it was a case of bad judgment', 'another instance occurred yesterday', 'but there is always the famous example of the Smiths']\n",
            "\n",
            "Synset: exercise.n.04\n",
            "Definition: a task performed or problem solved in order to develop skill or understanding\n",
            "Examples: ['you must work the examples at the end of each chapter in the textbook']\n",
            "\n"
          ]
        }
      ]
    },
    {
      "cell_type": "markdown",
      "source": [
        "#**18. Implement a simple FOPC parser for basic logical expressions using python program.**"
      ],
      "metadata": {
        "id": "kbfdgVjEzFmr"
      }
    },
    {
      "cell_type": "code",
      "source": [
        "from pyparsing import Word, alphas, OneOrMore, ZeroOrMore, Forward, Group, Suppress\n",
        "\n",
        "# Define FOPC grammar\n",
        "identifier = Word(alphas, alphas + \"_\", asKeyword=True)\n",
        "variable = Word(alphas.lower(), alphas.lower() + \"_\", asKeyword=True)\n",
        "term = variable | identifier\n",
        "expr = Forward()\n",
        "arg_list = Suppress(\"(\") + Group(OneOrMore(term + ZeroOrMore(Suppress(\",\") + term))) + Suppress(\")\")\n",
        "expr << (identifier + arg_list) | variable\n",
        "\n",
        "# Example FOPC expressions\n",
        "expr1 = \"isHuman(john)\"\n",
        "expr2 = \"parentOf(john, alice)\"\n",
        "expr3 = \"hasColor(apple, red)\"\n",
        "\n",
        "# Parse FOPC expressions\n",
        "parsed_expr1 = expr.parseString(expr1, parseAll=True)\n",
        "parsed_expr2 = expr.parseString(expr2, parseAll=True)\n",
        "parsed_expr3 = expr.parseString(expr3, parseAll=True)\n",
        "\n",
        "# Print parsed expressions\n",
        "print(parsed_expr1.asList())\n",
        "print(parsed_expr2.asList())\n",
        "print(parsed_expr3.asList())"
      ],
      "metadata": {
        "colab": {
          "base_uri": "https://localhost:8080/"
        },
        "id": "5PZ38DOHz_-S",
        "outputId": "e75e0b66-fa5b-420c-d58c-9f86afa1f330"
      },
      "execution_count": 23,
      "outputs": [
        {
          "output_type": "stream",
          "name": "stdout",
          "text": [
            "['isHuman', ['john']]\n",
            "['parentOf', ['john', 'alice']]\n",
            "['hasColor', ['apple', 'red']]\n"
          ]
        }
      ]
    },
    {
      "cell_type": "markdown",
      "source": [
        "#**19. Create a program for word sense disambiguation using the Lesk algorithm using python.**"
      ],
      "metadata": {
        "id": "3Rc8aMIBzFkP"
      }
    },
    {
      "cell_type": "code",
      "source": [
        "from nltk.wsd import lesk\n",
        "from nltk.tokenize import word_tokenize\n",
        "\n",
        "# Example sentence\n",
        "sentence = \"I went to the bank to deposit some money.\"\n",
        "\n",
        "# Word Sense Disambiguation using Lesk Algorithm\n",
        "word_to_disambiguate = \"bank\"\n",
        "sense = lesk(word_tokenize(sentence), word_to_disambiguate)\n",
        "\n",
        "# Print the result\n",
        "print(f\"Word: {word_to_disambiguate}, Sense: {sense}\")\n",
        "\n",
        "# Print the definition of the selected sense (if available)\n",
        "if sense:\n",
        "    print(f\"Sense Definition: {sense.definition()}\")"
      ],
      "metadata": {
        "colab": {
          "base_uri": "https://localhost:8080/"
        },
        "id": "3up7ZQ-20BRQ",
        "outputId": "55fc683d-4321-486b-be8c-369be7ffd3c7"
      },
      "execution_count": 38,
      "outputs": [
        {
          "output_type": "stream",
          "name": "stdout",
          "text": [
            "Word: bank, Sense: Synset('savings_bank.n.02')\n",
            "Sense Definition: a container (usually with a slot in the top) for keeping money at home\n"
          ]
        }
      ]
    },
    {
      "cell_type": "markdown",
      "source": [
        "#**20. Implement a basic information retrieval system using TF-IDF (Term Frequency-Inverse Document Frequency) for document ranking using python.**"
      ],
      "metadata": {
        "id": "iFmFALUKzFiR"
      }
    },
    {
      "cell_type": "code",
      "source": [
        "from sklearn.feature_extraction.text import TfidfVectorizer\n",
        "from sklearn.metrics.pairwise import linear_kernel\n",
        "\n",
        "# Sample documents\n",
        "documents = [\n",
        "    \"TF-IDF is a text analysis technique widely used in information retrieval.\",\n",
        "    \"It evaluates the importance of each word in a document relative to a collection of documents (corpus).\",\n",
        "    \"The higher the TF-IDF score, the more important the word is to the document.\",\n",
        "    \"Information retrieval systems use TF-IDF to rank documents based on their relevance to a query.\",\n",
        "    \"Python is a popular programming language for implementing information retrieval algorithms.\",\n",
        "]\n",
        "\n",
        "# User query\n",
        "query = \"TF-IDF in information retrieval\"\n",
        "\n",
        "# TF-IDF Vectorizer\n",
        "vectorizer = TfidfVectorizer()\n",
        "tfidf_matrix = vectorizer.fit_transform(documents)\n",
        "\n",
        "# Transform the query using the same vectorizer\n",
        "query_vector = vectorizer.transform([query])\n",
        "\n",
        "# Compute cosine similarity between the query and documents\n",
        "cosine_similarities = linear_kernel(query_vector, tfidf_matrix).flatten()\n",
        "\n",
        "# Rank documents based on similarity scores\n",
        "document_ranking = sorted(list(enumerate(cosine_similarities)), key=lambda x: x[1], reverse=True)\n",
        "\n",
        "# Display the ranked documents\n",
        "print(\"Ranked Documents:\")\n",
        "for rank, (doc_index, similarity) in enumerate(document_ranking, 1):\n",
        "    print(f\"Rank {rank}: Document {doc_index + 1} (Similarity: {similarity:.4f})\")\n",
        "    print(documents[doc_index])\n",
        "    print(\"\\n\")"
      ],
      "metadata": {
        "colab": {
          "base_uri": "https://localhost:8080/"
        },
        "id": "cNY-dlJC0B2v",
        "outputId": "ab6cb36e-606e-4deb-b4be-d3d99ed8dbae"
      },
      "execution_count": 26,
      "outputs": [
        {
          "output_type": "stream",
          "name": "stdout",
          "text": [
            "Ranked Documents:\n",
            "Rank 1: Document 1 (Similarity: 0.5565)\n",
            "TF-IDF is a text analysis technique widely used in information retrieval.\n",
            "\n",
            "\n",
            "Rank 2: Document 4 (Similarity: 0.3280)\n",
            "Information retrieval systems use TF-IDF to rank documents based on their relevance to a query.\n",
            "\n",
            "\n",
            "Rank 3: Document 5 (Similarity: 0.1986)\n",
            "Python is a popular programming language for implementing information retrieval algorithms.\n",
            "\n",
            "\n",
            "Rank 4: Document 3 (Similarity: 0.1187)\n",
            "The higher the TF-IDF score, the more important the word is to the document.\n",
            "\n",
            "\n",
            "Rank 5: Document 2 (Similarity: 0.1086)\n",
            "It evaluates the importance of each word in a document relative to a collection of documents (corpus).\n",
            "\n",
            "\n"
          ]
        }
      ]
    },
    {
      "cell_type": "markdown",
      "source": [
        "#**21. Create a python program that performs syntax-driven semantic analysis by extracting noun phrases and their meanings from a sentence.**"
      ],
      "metadata": {
        "id": "FrCbcVdezFfx"
      }
    },
    {
      "cell_type": "code",
      "source": [
        "import spacy\n",
        "from nltk.corpus import wordnet\n",
        "from nltk.tokenize import word_tokenize  # Add this line\n",
        "\n",
        "# Load the SpaCy English model\n",
        "nlp = spacy.load(\"en_core_web_sm\")\n",
        "\n",
        "# Example sentence\n",
        "sentence = \"The quick brown fox jumps over the lazy dog.\"\n",
        "\n",
        "# Perform syntax-driven semantic analysis\n",
        "doc = nlp(sentence)\n",
        "for np in doc.noun_chunks:\n",
        "    meanings = []\n",
        "    for word in word_tokenize(np.text):\n",
        "        synsets = wordnet.synsets(word)\n",
        "        meanings.extend([synset.definition() for synset in synsets])\n",
        "    print(f\"Noun Phrase: {np.text}, Meanings: {meanings}\")\n"
      ],
      "metadata": {
        "colab": {
          "base_uri": "https://localhost:8080/"
        },
        "id": "irIzvdJF0CSk",
        "outputId": "b366e8f1-fff8-4b12-f91d-1b16bebd7b42"
      },
      "execution_count": 39,
      "outputs": [
        {
          "output_type": "stream",
          "name": "stdout",
          "text": [
            "Noun Phrase: The quick brown fox, Meanings: ['any area of the body that is highly sensitive to pain (as the flesh underneath the skin or a fingernail or toenail)', 'accomplished rapidly and without delay', 'hurried and brief', 'moving quickly and lightly', 'apprehending and responding with speed and sensitivity', 'performed with little or no delay', 'easily aroused or excited', 'with little or no delay', 'an orange of low brightness and saturation', 'Scottish botanist who first observed the movement of small particles in fluids now known a Brownian motion (1773-1858)', \"abolitionist who was hanged after leading an unsuccessful raid at Harper's Ferry, Virginia (1800-1859)\", 'a university in Rhode Island', 'fry in a pan until it changes color', 'make brown in color', 'of a color similar to that of wood or earth', '(of skin) deeply suntanned', 'alert carnivorous mammal with pointed muzzle and ears and a bushy tail; most are predators that do not hunt in packs', 'a shifty deceptive person', 'the grey or reddish-brown fur of a fox', 'English statesman who supported American independence and the French Revolution (1749-1806)', 'English religious leader who founded the Society of Friends (1624-1691)', 'a member of an Algonquian people formerly living west of Lake Michigan along the Fox River', 'the Algonquian language of the Fox', 'deceive somebody', 'be confusing or perplexing to; cause to be unable to think clearly', 'become discolored with, or as if with, mildew spots']\n",
            "Noun Phrase: the lazy dog, Meanings: ['moving slowly and gently', 'disinclined to work or exertion', 'a member of the genus Canis (probably descended from the common wolf) that has been domesticated by man since prehistoric times; occurs in many breeds', 'a dull unattractive unpleasant girl or woman', 'informal term for a man', 'someone who is morally reprehensible', 'a smooth-textured sausage of minced beef or pork usually smoked; often served on a bread roll', 'a hinged catch that fits into a notch of a ratchet to move a wheel forward or prevent it from moving backward', 'metal supports for logs in a fireplace', 'go after with the intent to catch']\n"
          ]
        }
      ]
    },
    {
      "cell_type": "markdown",
      "source": [
        "#**22. Create a python program that performs reference resolution within a text.**"
      ],
      "metadata": {
        "id": "Ae5zNVJwzFdY"
      }
    },
    {
      "cell_type": "code",
      "source": [
        "import spacy\n",
        "\n",
        "# Load the SpaCy English model\n",
        "nlp = spacy.load(\"en_core_web_sm\")\n",
        "\n",
        "# Example sentence\n",
        "sentence = \"John has a dog. He loves it.\"\n",
        "\n",
        "# Perform reference resolution\n",
        "doc = nlp(sentence)\n",
        "for token in doc:\n",
        "    if token.pos_ == \"PRON\" and token.text.lower() in [\"he\", \"she\", \"it\"]:\n",
        "        referent = [t.text for t in doc if t.i == token.i + 1][0]\n",
        "        print(f\"Pronoun: {token.text}, Referent: {referent}\")\n"
      ],
      "metadata": {
        "colab": {
          "base_uri": "https://localhost:8080/"
        },
        "id": "xS2ys93l0Czn",
        "outputId": "1f148819-1ac6-4672-d1f2-a1c2dec76c26"
      },
      "execution_count": 28,
      "outputs": [
        {
          "output_type": "stream",
          "name": "stdout",
          "text": [
            "Pronoun: He, Referent: loves\n",
            "Pronoun: it, Referent: .\n"
          ]
        }
      ]
    },
    {
      "cell_type": "markdown",
      "source": [
        "#**23. Develop a python program that evaluates the coherence of a given text.**"
      ],
      "metadata": {
        "id": "qOSMi6vYzFa1"
      }
    },
    {
      "cell_type": "code",
      "source": [
        "from sklearn.feature_extraction.text import CountVectorizer\n",
        "from sklearn.metrics.pairwise import cosine_similarity\n",
        "\n",
        "# Example text\n",
        "text = [\"The quick brown fox.\", \"Jumps over the lazy dog.\", \"This is another sentence.\"]\n",
        "\n",
        "# Coherence evaluation using cosine similarity\n",
        "vectorizer = CountVectorizer()\n",
        "vectorized_text = vectorizer.fit_transform(text)\n",
        "similarity_matrix = cosine_similarity(vectorized_text)\n",
        "\n",
        "print(\"Coherence Matrix:\")\n",
        "print(similarity_matrix)\n"
      ],
      "metadata": {
        "colab": {
          "base_uri": "https://localhost:8080/"
        },
        "id": "VY1ad0hPy3cr",
        "outputId": "8814faeb-7098-4d2f-aa3f-4927230d50a4"
      },
      "execution_count": 29,
      "outputs": [
        {
          "output_type": "stream",
          "name": "stdout",
          "text": [
            "Coherence Matrix:\n",
            "[[1.        0.2236068 0.       ]\n",
            " [0.2236068 1.        0.       ]\n",
            " [0.        0.        1.       ]]\n"
          ]
        }
      ]
    },
    {
      "cell_type": "markdown",
      "source": [
        "#**24. Create a python program that recognizes dialog acts in a given dialog or conversation.**"
      ],
      "metadata": {
        "id": "Cbr8eQ7r0EjV"
      }
    },
    {
      "cell_type": "code",
      "source": [
        "import spacy\n",
        "\n",
        "# Load the SpaCy conversational AI model\n",
        "nlp = spacy.load(\"en_core_web_sm\")\n",
        "\n",
        "# Example dialog\n",
        "dialog = \"User: How's the weather today? Assistant: The weather is sunny and warm.\"\n",
        "\n",
        "# Perform dialog act recognition\n",
        "doc = nlp(dialog)\n",
        "for sent in doc.sents:\n",
        "    dialog_act_type = sent._.dialog_act_type if hasattr(sent._, 'dialog_act_type') else \"Not recognized\"\n",
        "    print(f\"Dialog Act: {dialog_act_type}, Sentence: {sent.text}\")\n"
      ],
      "metadata": {
        "colab": {
          "base_uri": "https://localhost:8080/"
        },
        "id": "HHjap8Vf0FCM",
        "outputId": "c40cf564-ea5a-45e5-92af-e96299808e05"
      },
      "execution_count": 40,
      "outputs": [
        {
          "output_type": "stream",
          "name": "stdout",
          "text": [
            "Dialog Act: Not recognized, Sentence: User: How's the weather today?\n",
            "Dialog Act: Not recognized, Sentence: Assistant:\n",
            "Dialog Act: Not recognized, Sentence: The weather is sunny and warm.\n"
          ]
        }
      ]
    },
    {
      "cell_type": "markdown",
      "source": [
        "#**26. Implement a machine translation program using the Hugging Face Transformers library, translate English text to French using python.**"
      ],
      "metadata": {
        "id": "cWY9iaCn0Krg"
      }
    },
    {
      "cell_type": "code",
      "source": [
        "from transformers import MarianMTModel, MarianTokenizer\n",
        "\n",
        "# Load English to French translation model and tokenizer\n",
        "model_name = \"Helsinki-NLP/opus-mt-en-fr\"\n",
        "model = MarianMTModel.from_pretrained(model_name)\n",
        "tokenizer = MarianTokenizer.from_pretrained(model_name)\n",
        "\n",
        "# Translate English text to French\n",
        "english_text = \"Hello, how are you?\"\n",
        "input_ids = tokenizer.encode(english_text, return_tensors=\"pt\")\n",
        "output_ids = model.generate(input_ids)\n",
        "french_text = tokenizer.decode(output_ids[0], skip_special_tokens=True)\n",
        "\n",
        "print(f\"English: {english_text}\")\n",
        "print(f\"French: {french_text}\")\n"
      ],
      "metadata": {
        "colab": {
          "base_uri": "https://localhost:8080/",
          "height": 435,
          "referenced_widgets": [
            "3b730b57ec2845c88710973d28cdfa11",
            "4f9c9c73649545f6bbf66fda899eda83",
            "a52fb1e59e3e4562a8e524509af1bf57",
            "6faca02aca734a37b30fa8469bb22d86",
            "736f2eb89c3f4f3a9ba74b535f619bc5",
            "864f7466e47344189930e60ae4ac1fce",
            "7a23c7fbedc34392b3fcf3df22a6ce07",
            "08e50606909c4b868b1eb4b57dce3b5f",
            "3e994e3bec8c44429ed602a8af642dd5",
            "251a2b84e9be47928f9a28334781b242",
            "a2b2585df25d4817b7200d11a69c7fd7",
            "7c2b52276c904ac181ea30bbe550f486",
            "7e26499e74234138bc7e676354a32287",
            "ca2c85a666954a78ba3fc9321f48405d",
            "83be7891e00d4a18bf38bebe8836489f",
            "ddd39b3c5d804100977cbbf54681c0fe",
            "2fbc57bc00ad4195a926a53177665932",
            "bb5df78606c84e19b2958d93a2d1c714",
            "c872d16e0da748c3a9327be3284a8f79",
            "80507d79acff4ae18bd24fa1727e141b",
            "58335231fbb945b6bb7b423f58b5608b",
            "0bf9e489ef364773ad90d1b60d37debd",
            "f0325337b8044115a0e15dcc31d6b67e",
            "663196ac8b1746ad8e90caa1f11cd588",
            "5023433d53f3489aa0a3c5310f899d23",
            "eaab889eb64c4c9186a220c63300fe06",
            "ea6dd3fc61104ceea64ae1f4d0c44c90",
            "5eb92748f35c43188dae37bdbb2ef16a",
            "8f9a75d9031e43c686872f241d673344",
            "3e609753f87d447889d762da3d1a06ff",
            "0db36a9fdb40432083ddd148ba648ea2",
            "623106fb3eec497a8e77d2f34c3f0037",
            "478a33912cc448208ed82c09be2edd6a",
            "3e97f3078a924f909975cfdecf2157e8",
            "6280ab74e79b4106b2696d89538f43b3",
            "7b1c537ab5f040aca2246f9ff06040a2",
            "6607e6873da7478b931ce7b1bfccefd1",
            "80862e3d18104e938a472c9d5c5a5a15",
            "46b6ed02d1ba48c086091a54445dd48a",
            "e2a9b97e5c614f048c94f24c1e8a477f",
            "9abfd3427bef46e380ab5c9980f715a2",
            "906099b25fe14f8e97434b60e2caf979",
            "1d42234d415e4d33ac2c3fa1c731e8cf",
            "edd9617c78164e98a3b128e13e55c893",
            "cbd3cc22e84f4a76af70f9f04f5a2189",
            "c5059272cd654df1ae02661afc79726e",
            "cfcd1baa53b448d69a9a0fb168a6b0be",
            "5244c716ac2542faaf94fdc6e0e475b9",
            "0243a13a0afe4934b7aa5106c60be718",
            "a96c7149c26c4ad9873121fbb607bf16",
            "10e155a62463401082af2c92e94d7f51",
            "7adf37e88f0c4d189a044672195b6158",
            "b8ced36690624979ba36f36e0a565153",
            "d33f4244539f439ea66301346b8cae68",
            "1b33ec0af71945cfa94b6649556e00f4",
            "95da17c4e9ce405d96be1c094b4c53d2",
            "6f55ad192893483cb9e09915ad962783",
            "3585987ed17d48408451c12673e21379",
            "ca75d629494a44e6bc765e32fbb6b2e9",
            "610b241fa2d34ae0aed29f7dd194f92c",
            "f3d34ec5548d4803a778303cc3c79b16",
            "84d4dd4d15f44595baae537b634b14bd",
            "73326197c0d348ce82fa09b6e3317e79",
            "31e3372c35844ece9c93fc98ef89be4a",
            "34be488bf45943b7bb3bee0239011464",
            "f423f435a4824e07a16e45652a324395",
            "c241a78c902c44bb9f4ab44eff1ece7a",
            "efac257a4aa94f54bc3013fea9668bc3",
            "f7daacaa23a5429295b3d2880cd5fce0",
            "11b105e1eb33455d9383dc48ca5a0e65",
            "24fd09df736a45ccb903b7688778abf1",
            "3caeb1bc103743fc975dd531b12923b0",
            "13d559d7aa514d18b790e2fbfd478c77",
            "ed0892fef1db435d9bb3673f43a28d4a",
            "4be1615d429d438e87149f0c644392f3",
            "38df618a31ab4f6bacb5a3bd9a5b9b37",
            "b99df11d056f472a938043698c2392ad"
          ]
        },
        "id": "vQMOC10V0J4F",
        "outputId": "403c12b6-2252-4d40-ebbc-443d2ed99ffb"
      },
      "execution_count": 31,
      "outputs": [
        {
          "output_type": "stream",
          "name": "stderr",
          "text": [
            "/usr/local/lib/python3.10/dist-packages/huggingface_hub/utils/_token.py:88: UserWarning: \n",
            "The secret `HF_TOKEN` does not exist in your Colab secrets.\n",
            "To authenticate with the Hugging Face Hub, create a token in your settings tab (https://huggingface.co/settings/tokens), set it as secret in your Google Colab and restart your session.\n",
            "You will be able to reuse this secret in all of your notebooks.\n",
            "Please note that authentication is recommended but still optional to access public models or datasets.\n",
            "  warnings.warn(\n"
          ]
        },
        {
          "output_type": "display_data",
          "data": {
            "text/plain": [
              "config.json:   0%|          | 0.00/1.42k [00:00<?, ?B/s]"
            ],
            "application/vnd.jupyter.widget-view+json": {
              "version_major": 2,
              "version_minor": 0,
              "model_id": "3b730b57ec2845c88710973d28cdfa11"
            }
          },
          "metadata": {}
        },
        {
          "output_type": "display_data",
          "data": {
            "text/plain": [
              "pytorch_model.bin:   0%|          | 0.00/301M [00:00<?, ?B/s]"
            ],
            "application/vnd.jupyter.widget-view+json": {
              "version_major": 2,
              "version_minor": 0,
              "model_id": "7c2b52276c904ac181ea30bbe550f486"
            }
          },
          "metadata": {}
        },
        {
          "output_type": "display_data",
          "data": {
            "text/plain": [
              "generation_config.json:   0%|          | 0.00/293 [00:00<?, ?B/s]"
            ],
            "application/vnd.jupyter.widget-view+json": {
              "version_major": 2,
              "version_minor": 0,
              "model_id": "f0325337b8044115a0e15dcc31d6b67e"
            }
          },
          "metadata": {}
        },
        {
          "output_type": "display_data",
          "data": {
            "text/plain": [
              "tokenizer_config.json:   0%|          | 0.00/42.0 [00:00<?, ?B/s]"
            ],
            "application/vnd.jupyter.widget-view+json": {
              "version_major": 2,
              "version_minor": 0,
              "model_id": "3e97f3078a924f909975cfdecf2157e8"
            }
          },
          "metadata": {}
        },
        {
          "output_type": "display_data",
          "data": {
            "text/plain": [
              "source.spm:   0%|          | 0.00/778k [00:00<?, ?B/s]"
            ],
            "application/vnd.jupyter.widget-view+json": {
              "version_major": 2,
              "version_minor": 0,
              "model_id": "cbd3cc22e84f4a76af70f9f04f5a2189"
            }
          },
          "metadata": {}
        },
        {
          "output_type": "display_data",
          "data": {
            "text/plain": [
              "target.spm:   0%|          | 0.00/802k [00:00<?, ?B/s]"
            ],
            "application/vnd.jupyter.widget-view+json": {
              "version_major": 2,
              "version_minor": 0,
              "model_id": "95da17c4e9ce405d96be1c094b4c53d2"
            }
          },
          "metadata": {}
        },
        {
          "output_type": "display_data",
          "data": {
            "text/plain": [
              "vocab.json:   0%|          | 0.00/1.34M [00:00<?, ?B/s]"
            ],
            "application/vnd.jupyter.widget-view+json": {
              "version_major": 2,
              "version_minor": 0,
              "model_id": "c241a78c902c44bb9f4ab44eff1ece7a"
            }
          },
          "metadata": {}
        },
        {
          "output_type": "stream",
          "name": "stderr",
          "text": [
            "/usr/local/lib/python3.10/dist-packages/transformers/models/marian/tokenization_marian.py:197: UserWarning: Recommended: pip install sacremoses.\n",
            "  warnings.warn(\"Recommended: pip install sacremoses.\")\n"
          ]
        },
        {
          "output_type": "stream",
          "name": "stdout",
          "text": [
            "English: Hello, how are you?\n",
            "French: Bonjour, comment allez-vous?\n"
          ]
        }
      ]
    },
    {
      "cell_type": "code",
      "source": [],
      "metadata": {
        "id": "oUXrjXtR1Lqi"
      },
      "execution_count": null,
      "outputs": []
    }
  ]
}