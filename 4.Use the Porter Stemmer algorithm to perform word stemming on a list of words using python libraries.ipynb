{
  "nbformat": 4,
  "nbformat_minor": 0,
  "metadata": {
    "colab": {
      "provenance": [],
      "authorship_tag": "ABX9TyMifDPJRO1FkfRu64kDHeFI",
      "include_colab_link": true
    },
    "kernelspec": {
      "name": "python3",
      "display_name": "Python 3"
    },
    "language_info": {
      "name": "python"
    }
  },
  "cells": [
    {
      "cell_type": "markdown",
      "metadata": {
        "id": "view-in-github",
        "colab_type": "text"
      },
      "source": [
        "<a href=\"https://colab.research.google.com/github/uday1277/DSA0301-NLP/blob/main/4.Use%20the%20Porter%20Stemmer%20algorithm%20to%20perform%20word%20stemming%20on%20a%20list%20of%20words%20using%20python%20libraries.ipynb\" target=\"_parent\"><img src=\"https://colab.research.google.com/assets/colab-badge.svg\" alt=\"Open In Colab\"/></a>"
      ]
    },
    {
      "cell_type": "code",
      "execution_count": 1,
      "metadata": {
        "colab": {
          "base_uri": "https://localhost:8080/"
        },
        "id": "yWDz-XGHRrnh",
        "outputId": "cef31084-a990-4a05-c59e-6550299d7196"
      },
      "outputs": [
        {
          "output_type": "stream",
          "name": "stderr",
          "text": [
            "[nltk_data] Downloading package punkt to /root/nltk_data...\n",
            "[nltk_data]   Unzipping tokenizers/punkt.zip.\n"
          ]
        },
        {
          "output_type": "stream",
          "name": "stdout",
          "text": [
            "running -> run\n",
            "flies -> fli\n",
            "happily -> happili\n",
            "better -> better\n",
            "cats -> cat\n"
          ]
        }
      ],
      "source": [
        "import nltk\n",
        "from nltk.stem import PorterStemmer\n",
        "\n",
        "# Download NLTK data (if not already downloaded)\n",
        "nltk.download('punkt')\n",
        "\n",
        "# Create an instance of the Porter Stemmer\n",
        "stemmer = PorterStemmer()\n",
        "\n",
        "# List of words to be stemmed\n",
        "words = [\"running\", \"flies\", \"happily\", \"better\", \"cats\"]\n",
        "\n",
        "# Perform stemming on the list of words\n",
        "stemmed_words = [stemmer.stem(word) for word in words]\n",
        "\n",
        "# Print the original words and their stemmed forms\n",
        "for original, stemmed in zip(words, stemmed_words):\n",
        "    print(f\"{original} -> {stemmed}\")\n"
      ]
    }
  ]
}