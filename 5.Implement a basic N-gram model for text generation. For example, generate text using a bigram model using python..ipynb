{
  "nbformat": 4,
  "nbformat_minor": 0,
  "metadata": {
    "colab": {
      "provenance": [],
      "authorship_tag": "ABX9TyMcrcfwPPHo3zXezC3wIecn",
      "include_colab_link": true
    },
    "kernelspec": {
      "name": "python3",
      "display_name": "Python 3"
    },
    "language_info": {
      "name": "python"
    }
  },
  "cells": [
    {
      "cell_type": "markdown",
      "metadata": {
        "id": "view-in-github",
        "colab_type": "text"
      },
      "source": [
        "<a href=\"https://colab.research.google.com/github/uday1277/DSA0301-NLP/blob/main/5.Implement%20a%20basic%20N-gram%20model%20for%20text%20generation.%20For%20example%2C%20generate%20text%20using%20a%20bigram%20model%20using%20python..ipynb\" target=\"_parent\"><img src=\"https://colab.research.google.com/assets/colab-badge.svg\" alt=\"Open In Colab\"/></a>"
      ]
    },
    {
      "cell_type": "code",
      "execution_count": 2,
      "metadata": {
        "colab": {
          "base_uri": "https://localhost:8080/"
        },
        "id": "yWDz-XGHRrnh",
        "outputId": "4d727f08-6231-427e-e472-b82660edac18"
      },
      "outputs": [
        {
          "output_type": "stream",
          "name": "stdout",
          "text": [
            "lazy dog is fast. The quick brown fox jumps over the lazy dog is sleeping.\n"
          ]
        }
      ],
      "source": [
        "import random\n",
        "\n",
        "# Sample text for training the bigram model\n",
        "corpus = \"The quick brown fox jumps over the lazy dog. The quick brown fox is fast. The lazy dog is sleeping.\"\n",
        "\n",
        "# Tokenize the text into words\n",
        "words = corpus.split()\n",
        "\n",
        "# Create a dictionary to store bigram frequencies\n",
        "bigrams = {}\n",
        "for i in range(len(words) - 1):\n",
        "    current_word = words[i]\n",
        "    next_word = words[i + 1]\n",
        "    if current_word not in bigrams:\n",
        "        bigrams[current_word] = []\n",
        "    bigrams[current_word].append(next_word)\n",
        "\n",
        "# Generate text using the bigram model\n",
        "starting_word = random.choice(words)\n",
        "generated_text = [starting_word]\n",
        "for _ in range(20):  # Generate 20 words\n",
        "    if starting_word in bigrams:\n",
        "        next_word = random.choice(bigrams[starting_word])\n",
        "        generated_text.append(next_word)\n",
        "        starting_word = next_word\n",
        "    else:\n",
        "        break\n",
        "\n",
        "generated_text = \" \".join(generated_text)\n",
        "print(generated_text)\n",
        "\n"
      ]
    }
  ]
}